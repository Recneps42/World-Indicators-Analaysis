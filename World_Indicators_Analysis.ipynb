{
  "nbformat": 4,
  "nbformat_minor": 0,
  "metadata": {
    "colab": {
      "name": "World Indicators Analysis.ipynb",
      "provenance": [],
      "collapsed_sections": []
    },
    "kernelspec": {
      "name": "python3",
      "display_name": "Python 3"
    }
  },
  "cells": [
    {
      "cell_type": "markdown",
      "metadata": {
        "id": "okLP_0L3_UT9"
      },
      "source": [
        "This workbook is an analysis of the \"World Development Indicators\" Dataset from the world bank. The link to the files can be found [here](https://datacatalog.worldbank.org/dataset/world-development-indicators)."
      ]
    },
    {
      "cell_type": "markdown",
      "metadata": {
        "id": "pfsh_Coi_qJZ"
      },
      "source": [
        "The main question that I would like to answer about the data is:\n",
        "\n",
        ">How does the development of infrastructure (measured by access to electricity, GDP, and the number of health workers per capita), impact the mortality rate in the country?\n",
        "\n",
        "With my hypotheses being:\n",
        "\n",
        ">GDP, access to electricity (by % of the overall population), and the number of health workers per capital will have a positive correlation with life expectancy.\n",
        "\n",
        "With the null hypothesis being: \n",
        "\n",
        ">there is no difference based on these factors.\n",
        "\n",
        "The main purpose of this project is to draw informed conclusions about the impact of these indicators on life expectancy, to hopefully provide a guideline on what sectors developing countries should focus on improving first to benefit their population.\n",
        "\n"
      ]
    },
    {
      "cell_type": "markdown",
      "metadata": {
        "id": "a7GPjG76AyJY"
      },
      "source": [
        "The general trend that this analysis will follow is:\n",
        "* Aquire the data and wrangle it into a manageable form.\n",
        "* Analyze the overall trends across all of the years.\n",
        "* Focus on individual years to form a holistic view of how these indicators change and interact over time.\n",
        "* Restate the important points and takeaways"
      ]
    },
    {
      "cell_type": "code",
      "metadata": {
        "id": "YJYm-3D8Nl6R",
        "outputId": "79f852cc-35c8-4a16-e45f-d6dc189109ef",
        "colab": {
          "base_uri": "https://localhost:8080/",
          "height": 34
        }
      },
      "source": [
        "#To keep the page organized do all imports here, not all things imported will be\n",
        "#used due to coding revisions.\n",
        "\n",
        "#Secondary note: most of the outputs to dataframe building have been deleted\n",
        "#so as to avoid excessive text in the workbook, although all code has been run \n",
        "#and verified.\n",
        "from sqlalchemy import create_engine\n",
        "from scipy import stats\n",
        "import warnings\n",
        "import pandas as pd\n",
        "import seaborn as sns \n",
        "import requests\n",
        "from io import StringIO\n",
        "import zipfile\n",
        "import gzip\n",
        "import numpy as np\n",
        "import seaborn as sns\n",
        "sns.set()\n",
        "import glob\n",
        "import os\n",
        "import json\n",
        "from pandas.io.json import json_normalize \n",
        "warnings.simplefilter(action='ignore', category=FutureWarning)\n",
        "from google.colab import drive\n",
        "import matplotlib.pyplot as plt\n",
        "\n",
        "drive.mount('/content/gdrive')"
      ],
      "execution_count": null,
      "outputs": [
        {
          "output_type": "stream",
          "text": [
            "Mounted at /content/gdrive\n"
          ],
          "name": "stdout"
        }
      ]
    },
    {
      "cell_type": "markdown",
      "metadata": {
        "id": "jhhceyxx5A9s"
      },
      "source": [
        "Initially, the data was accessible via API requests or downloadable .zip files. Rather than going through the hassle of working with API queries, I downloaded and re-uploaded the dataset from the .zip file that I needed, which is the link you'll see in the cell below."
      ]
    },
    {
      "cell_type": "code",
      "metadata": {
        "id": "zABVsmbHTT1r",
        "outputId": "43eaaf26-0c04-4c74-b23e-4d28c62d1a38",
        "colab": {
          "base_uri": "https://localhost:8080/",
          "height": 1000
        }
      },
      "source": [
        "#Here we fetch the data and convert it to a dataframe for analysis\n",
        "df = pd.read_csv('/content/gdrive/My Drive/Colab Datasets/WDIData.csv')\n",
        "\n",
        "#While we're at it, lets retrieve some basic information about the data, \n",
        "#as well as the first few rows to see what we're working with.\n",
        "df.info()\n",
        "df.head"
      ],
      "execution_count": null,
      "outputs": [
        {
          "output_type": "stream",
          "text": [
            "<class 'pandas.core.frame.DataFrame'>\n",
            "RangeIndex: 379368 entries, 0 to 379367\n",
            "Data columns (total 66 columns):\n",
            " #   Column          Non-Null Count   Dtype  \n",
            "---  ------          --------------   -----  \n",
            " 0   Country Name    379368 non-null  object \n",
            " 1   Country Code    379368 non-null  object \n",
            " 2   Indicator Name  379368 non-null  object \n",
            " 3   Indicator Code  379368 non-null  object \n",
            " 4   1960            37734 non-null   float64\n",
            " 5   1961            42123 non-null   float64\n",
            " 6   1962            44349 non-null   float64\n",
            " 7   1963            44232 non-null   float64\n",
            " 8   1964            44795 non-null   float64\n",
            " 9   1965            47322 non-null   float64\n",
            " 10  1966            47032 non-null   float64\n",
            " 11  1967            48769 non-null   float64\n",
            " 12  1968            48350 non-null   float64\n",
            " 13  1969            50261 non-null   float64\n",
            " 14  1970            71053 non-null   float64\n",
            " 15  1971            77338 non-null   float64\n",
            " 16  1972            80127 non-null   float64\n",
            " 17  1973            79698 non-null   float64\n",
            " 18  1974            81134 non-null   float64\n",
            " 19  1975            85183 non-null   float64\n",
            " 20  1976            87261 non-null   float64\n",
            " 21  1977            90731 non-null   float64\n",
            " 22  1978            90380 non-null   float64\n",
            " 23  1979            91261 non-null   float64\n",
            " 24  1980            95988 non-null   float64\n",
            " 25  1981            97876 non-null   float64\n",
            " 26  1982            99199 non-null   float64\n",
            " 27  1983            99012 non-null   float64\n",
            " 28  1984            99795 non-null   float64\n",
            " 29  1985            101097 non-null  float64\n",
            " 30  1986            101866 non-null  float64\n",
            " 31  1987            103214 non-null  float64\n",
            " 32  1988            102828 non-null  float64\n",
            " 33  1989            104634 non-null  float64\n",
            " 34  1990            127794 non-null  float64\n",
            " 35  1991            134898 non-null  float64\n",
            " 36  1992            138977 non-null  float64\n",
            " 37  1993            140176 non-null  float64\n",
            " 38  1994            142204 non-null  float64\n",
            " 39  1995            150147 non-null  float64\n",
            " 40  1996            149964 non-null  float64\n",
            " 41  1997            151122 non-null  float64\n",
            " 42  1998            153036 non-null  float64\n",
            " 43  1999            158396 non-null  float64\n",
            " 44  2000            182179 non-null  float64\n",
            " 45  2001            174226 non-null  float64\n",
            " 46  2002            179057 non-null  float64\n",
            " 47  2003            179665 non-null  float64\n",
            " 48  2004            184955 non-null  float64\n",
            " 49  2005            197747 non-null  float64\n",
            " 50  2006            196434 non-null  float64\n",
            " 51  2007            200429 non-null  float64\n",
            " 52  2008            199803 non-null  float64\n",
            " 53  2009            199773 non-null  float64\n",
            " 54  2010            215248 non-null  float64\n",
            " 55  2011            206199 non-null  float64\n",
            " 56  2012            209081 non-null  float64\n",
            " 57  2013            204145 non-null  float64\n",
            " 58  2014            210736 non-null  float64\n",
            " 59  2015            206672 non-null  float64\n",
            " 60  2016            207083 non-null  float64\n",
            " 61  2017            190815 non-null  float64\n",
            " 62  2018            169620 non-null  float64\n",
            " 63  2019            92559 non-null   float64\n",
            " 64  2020            12645 non-null   float64\n",
            " 65  Unnamed: 65     0 non-null       float64\n",
            "dtypes: float64(62), object(4)\n",
            "memory usage: 191.0+ MB\n"
          ],
          "name": "stdout"
        },
        {
          "output_type": "execute_result",
          "data": {
            "text/plain": [
              "<bound method NDFrame.head of        Country Name Country Code  ... 2020 Unnamed: 65\n",
              "0        Arab World          ARB  ...  NaN         NaN\n",
              "1        Arab World          ARB  ...  NaN         NaN\n",
              "2        Arab World          ARB  ...  NaN         NaN\n",
              "3        Arab World          ARB  ...  NaN         NaN\n",
              "4        Arab World          ARB  ...  NaN         NaN\n",
              "...             ...          ...  ...  ...         ...\n",
              "379363     Zimbabwe          ZWE  ...  NaN         NaN\n",
              "379364     Zimbabwe          ZWE  ...  NaN         NaN\n",
              "379365     Zimbabwe          ZWE  ...  NaN         NaN\n",
              "379366     Zimbabwe          ZWE  ...  NaN         NaN\n",
              "379367     Zimbabwe          ZWE  ...  NaN         NaN\n",
              "\n",
              "[379368 rows x 66 columns]>"
            ]
          },
          "metadata": {
            "tags": []
          },
          "execution_count": 2
        }
      ]
    },
    {
      "cell_type": "markdown",
      "metadata": {
        "id": "D7tyyWONZh4p"
      },
      "source": [
        "Now that we've formed our main dataframe, we can begin to filter out and format our values into usable formats."
      ]
    },
    {
      "cell_type": "code",
      "metadata": {
        "id": "CuFWyvvo7xrH"
      },
      "source": [
        "#Now, we will begin sorting the variables we want to use\n",
        "#into separate dataframes, so we can analyze them.\n",
        "electricity_df = df[df['Indicator Code'] == 'EG.ELC.ACCS.ZS']\n",
        "gdp_df = df[df['Indicator Code'] == 'NY.GDP.MKTP.KD']\n",
        "health_worker_df = df[df['Indicator Code'] == 'SH.MED.CMHW.P3']\n",
        "life_expectancy_df = df[df['Indicator Code'] == 'SP.DYN.LE00.IN']"
      ],
      "execution_count": null,
      "outputs": []
    },
    {
      "cell_type": "code",
      "metadata": {
        "id": "fBxKqcDucvsT",
        "outputId": "e78760a2-6233-4505-9513-ab43bf25ee70",
        "colab": {
          "base_uri": "https://localhost:8080/",
          "height": 1000
        }
      },
      "source": [
        "#Let's check to make sure it formed all of the dataframes correctly.\n",
        "electricity_df.info()\n",
        "gdp_df.info()\n",
        "health_worker_df.info()\n",
        "life_expectancy_df.info()"
      ],
      "execution_count": null,
      "outputs": [
        {
          "output_type": "stream",
          "text": [
            "<class 'pandas.core.frame.DataFrame'>\n",
            "Int64Index: 264 entries, 1 to 377932\n",
            "Data columns (total 66 columns):\n",
            " #   Column          Non-Null Count  Dtype  \n",
            "---  ------          --------------  -----  \n",
            " 0   Country Name    264 non-null    object \n",
            " 1   Country Code    264 non-null    object \n",
            " 2   Indicator Name  264 non-null    object \n",
            " 3   Indicator Code  264 non-null    object \n",
            " 4   1960            0 non-null      float64\n",
            " 5   1961            0 non-null      float64\n",
            " 6   1962            0 non-null      float64\n",
            " 7   1963            0 non-null      float64\n",
            " 8   1964            0 non-null      float64\n",
            " 9   1965            0 non-null      float64\n",
            " 10  1966            0 non-null      float64\n",
            " 11  1967            0 non-null      float64\n",
            " 12  1968            0 non-null      float64\n",
            " 13  1969            0 non-null      float64\n",
            " 14  1970            0 non-null      float64\n",
            " 15  1971            0 non-null      float64\n",
            " 16  1972            0 non-null      float64\n",
            " 17  1973            0 non-null      float64\n",
            " 18  1974            0 non-null      float64\n",
            " 19  1975            0 non-null      float64\n",
            " 20  1976            0 non-null      float64\n",
            " 21  1977            0 non-null      float64\n",
            " 22  1978            0 non-null      float64\n",
            " 23  1979            0 non-null      float64\n",
            " 24  1980            0 non-null      float64\n",
            " 25  1981            0 non-null      float64\n",
            " 26  1982            0 non-null      float64\n",
            " 27  1983            0 non-null      float64\n",
            " 28  1984            0 non-null      float64\n",
            " 29  1985            0 non-null      float64\n",
            " 30  1986            0 non-null      float64\n",
            " 31  1987            0 non-null      float64\n",
            " 32  1988            0 non-null      float64\n",
            " 33  1989            0 non-null      float64\n",
            " 34  1990            82 non-null     float64\n",
            " 35  1991            93 non-null     float64\n",
            " 36  1992            108 non-null    float64\n",
            " 37  1993            118 non-null    float64\n",
            " 38  1994            123 non-null    float64\n",
            " 39  1995            130 non-null    float64\n",
            " 40  1996            139 non-null    float64\n",
            " 41  1997            145 non-null    float64\n",
            " 42  1998            150 non-null    float64\n",
            " 43  1999            156 non-null    float64\n",
            " 44  2000            174 non-null    float64\n",
            " 45  2001            183 non-null    float64\n",
            " 46  2002            191 non-null    float64\n",
            " 47  2003            191 non-null    float64\n",
            " 48  2004            193 non-null    float64\n",
            " 49  2005            200 non-null    float64\n",
            " 50  2006            204 non-null    float64\n",
            " 51  2007            206 non-null    float64\n",
            " 52  2008            206 non-null    float64\n",
            " 53  2009            210 non-null    float64\n",
            " 54  2010            213 non-null    float64\n",
            " 55  2011            214 non-null    float64\n",
            " 56  2012            215 non-null    float64\n",
            " 57  2013            215 non-null    float64\n",
            " 58  2014            215 non-null    float64\n",
            " 59  2015            215 non-null    float64\n",
            " 60  2016            215 non-null    float64\n",
            " 61  2017            215 non-null    float64\n",
            " 62  2018            215 non-null    float64\n",
            " 63  2019            0 non-null      float64\n",
            " 64  2020            0 non-null      float64\n",
            " 65  Unnamed: 65     0 non-null      float64\n",
            "dtypes: float64(62), object(4)\n",
            "memory usage: 138.2+ KB\n",
            "<class 'pandas.core.frame.DataFrame'>\n",
            "Int64Index: 264 entries, 464 to 378395\n",
            "Data columns (total 66 columns):\n",
            " #   Column          Non-Null Count  Dtype  \n",
            "---  ------          --------------  -----  \n",
            " 0   Country Name    264 non-null    object \n",
            " 1   Country Code    264 non-null    object \n",
            " 2   Indicator Name  264 non-null    object \n",
            " 3   Indicator Code  264 non-null    object \n",
            " 4   1960            118 non-null    float64\n",
            " 5   1961            122 non-null    float64\n",
            " 6   1962            122 non-null    float64\n",
            " 7   1963            122 non-null    float64\n",
            " 8   1964            122 non-null    float64\n",
            " 9   1965            128 non-null    float64\n",
            " 10  1966            132 non-null    float64\n",
            " 11  1967            133 non-null    float64\n",
            " 12  1968            137 non-null    float64\n",
            " 13  1969            137 non-null    float64\n",
            " 14  1970            153 non-null    float64\n",
            " 15  1971            153 non-null    float64\n",
            " 16  1972            153 non-null    float64\n",
            " 17  1973            153 non-null    float64\n",
            " 18  1974            155 non-null    float64\n",
            " 19  1975            159 non-null    float64\n",
            " 20  1976            160 non-null    float64\n",
            " 21  1977            165 non-null    float64\n",
            " 22  1978            165 non-null    float64\n",
            " 23  1979            166 non-null    float64\n",
            " 24  1980            177 non-null    float64\n",
            " 25  1981            182 non-null    float64\n",
            " 26  1982            186 non-null    float64\n",
            " 27  1983            186 non-null    float64\n",
            " 28  1984            189 non-null    float64\n",
            " 29  1985            190 non-null    float64\n",
            " 30  1986            194 non-null    float64\n",
            " 31  1987            197 non-null    float64\n",
            " 32  1988            199 non-null    float64\n",
            " 33  1989            202 non-null    float64\n",
            " 34  1990            215 non-null    float64\n",
            " 35  1991            216 non-null    float64\n",
            " 36  1992            219 non-null    float64\n",
            " 37  1993            221 non-null    float64\n",
            " 38  1994            223 non-null    float64\n",
            " 39  1995            229 non-null    float64\n",
            " 40  1996            229 non-null    float64\n",
            " 41  1997            232 non-null    float64\n",
            " 42  1998            232 non-null    float64\n",
            " 43  1999            233 non-null    float64\n",
            " 44  2000            239 non-null    float64\n",
            " 45  2001            240 non-null    float64\n",
            " 46  2002            245 non-null    float64\n",
            " 47  2003            245 non-null    float64\n",
            " 48  2004            246 non-null    float64\n",
            " 49  2005            246 non-null    float64\n",
            " 50  2006            247 non-null    float64\n",
            " 51  2007            247 non-null    float64\n",
            " 52  2008            248 non-null    float64\n",
            " 53  2009            248 non-null    float64\n",
            " 54  2010            252 non-null    float64\n",
            " 55  2011            248 non-null    float64\n",
            " 56  2012            247 non-null    float64\n",
            " 57  2013            247 non-null    float64\n",
            " 58  2014            246 non-null    float64\n",
            " 59  2015            245 non-null    float64\n",
            " 60  2016            244 non-null    float64\n",
            " 61  2017            244 non-null    float64\n",
            " 62  2018            238 non-null    float64\n",
            " 63  2019            222 non-null    float64\n",
            " 64  2020            0 non-null      float64\n",
            " 65  Unnamed: 65     0 non-null      float64\n",
            "dtypes: float64(62), object(4)\n",
            "memory usage: 138.2+ KB\n",
            "<class 'pandas.core.frame.DataFrame'>\n",
            "Int64Index: 264 entries, 214 to 378145\n",
            "Data columns (total 66 columns):\n",
            " #   Column          Non-Null Count  Dtype  \n",
            "---  ------          --------------  -----  \n",
            " 0   Country Name    264 non-null    object \n",
            " 1   Country Code    264 non-null    object \n",
            " 2   Indicator Name  264 non-null    object \n",
            " 3   Indicator Code  264 non-null    object \n",
            " 4   1960            0 non-null      float64\n",
            " 5   1961            0 non-null      float64\n",
            " 6   1962            0 non-null      float64\n",
            " 7   1963            0 non-null      float64\n",
            " 8   1964            0 non-null      float64\n",
            " 9   1965            0 non-null      float64\n",
            " 10  1966            0 non-null      float64\n",
            " 11  1967            0 non-null      float64\n",
            " 12  1968            0 non-null      float64\n",
            " 13  1969            0 non-null      float64\n",
            " 14  1970            0 non-null      float64\n",
            " 15  1971            0 non-null      float64\n",
            " 16  1972            0 non-null      float64\n",
            " 17  1973            0 non-null      float64\n",
            " 18  1974            0 non-null      float64\n",
            " 19  1975            0 non-null      float64\n",
            " 20  1976            0 non-null      float64\n",
            " 21  1977            0 non-null      float64\n",
            " 22  1978            0 non-null      float64\n",
            " 23  1979            0 non-null      float64\n",
            " 24  1980            0 non-null      float64\n",
            " 25  1981            0 non-null      float64\n",
            " 26  1982            0 non-null      float64\n",
            " 27  1983            0 non-null      float64\n",
            " 28  1984            0 non-null      float64\n",
            " 29  1985            0 non-null      float64\n",
            " 30  1986            0 non-null      float64\n",
            " 31  1987            0 non-null      float64\n",
            " 32  1988            0 non-null      float64\n",
            " 33  1989            0 non-null      float64\n",
            " 34  1990            6 non-null      float64\n",
            " 35  1991            3 non-null      float64\n",
            " 36  1992            3 non-null      float64\n",
            " 37  1993            3 non-null      float64\n",
            " 38  1994            2 non-null      float64\n",
            " 39  1995            3 non-null      float64\n",
            " 40  1996            5 non-null      float64\n",
            " 41  1997            3 non-null      float64\n",
            " 42  1998            6 non-null      float64\n",
            " 43  1999            6 non-null      float64\n",
            " 44  2000            11 non-null     float64\n",
            " 45  2001            8 non-null      float64\n",
            " 46  2002            3 non-null      float64\n",
            " 47  2003            7 non-null      float64\n",
            " 48  2004            29 non-null     float64\n",
            " 49  2005            8 non-null      float64\n",
            " 50  2006            7 non-null      float64\n",
            " 51  2007            11 non-null     float64\n",
            " 52  2008            21 non-null     float64\n",
            " 53  2009            14 non-null     float64\n",
            " 54  2010            13 non-null     float64\n",
            " 55  2011            14 non-null     float64\n",
            " 56  2012            7 non-null      float64\n",
            " 57  2013            6 non-null      float64\n",
            " 58  2014            3 non-null      float64\n",
            " 59  2015            4 non-null      float64\n",
            " 60  2016            6 non-null      float64\n",
            " 61  2017            0 non-null      float64\n",
            " 62  2018            0 non-null      float64\n",
            " 63  2019            0 non-null      float64\n",
            " 64  2020            0 non-null      float64\n",
            " 65  Unnamed: 65     0 non-null      float64\n",
            "dtypes: float64(62), object(4)\n",
            "memory usage: 138.2+ KB\n",
            "<class 'pandas.core.frame.DataFrame'>\n",
            "Int64Index: 264 entries, 698 to 378629\n",
            "Data columns (total 66 columns):\n",
            " #   Column          Non-Null Count  Dtype  \n",
            "---  ------          --------------  -----  \n",
            " 0   Country Name    264 non-null    object \n",
            " 1   Country Code    264 non-null    object \n",
            " 2   Indicator Name  264 non-null    object \n",
            " 3   Indicator Code  264 non-null    object \n",
            " 4   1960            235 non-null    float64\n",
            " 5   1961            236 non-null    float64\n",
            " 6   1962            236 non-null    float64\n",
            " 7   1963            235 non-null    float64\n",
            " 8   1964            235 non-null    float64\n",
            " 9   1965            236 non-null    float64\n",
            " 10  1966            236 non-null    float64\n",
            " 11  1967            236 non-null    float64\n",
            " 12  1968            236 non-null    float64\n",
            " 13  1969            236 non-null    float64\n",
            " 14  1970            237 non-null    float64\n",
            " 15  1971            236 non-null    float64\n",
            " 16  1972            236 non-null    float64\n",
            " 17  1973            237 non-null    float64\n",
            " 18  1974            236 non-null    float64\n",
            " 19  1975            236 non-null    float64\n",
            " 20  1976            236 non-null    float64\n",
            " 21  1977            236 non-null    float64\n",
            " 22  1978            238 non-null    float64\n",
            " 23  1979            237 non-null    float64\n",
            " 24  1980            239 non-null    float64\n",
            " 25  1981            239 non-null    float64\n",
            " 26  1982            242 non-null    float64\n",
            " 27  1983            240 non-null    float64\n",
            " 28  1984            240 non-null    float64\n",
            " 29  1985            240 non-null    float64\n",
            " 30  1986            241 non-null    float64\n",
            " 31  1987            244 non-null    float64\n",
            " 32  1988            241 non-null    float64\n",
            " 33  1989            241 non-null    float64\n",
            " 34  1990            243 non-null    float64\n",
            " 35  1991            244 non-null    float64\n",
            " 36  1992            244 non-null    float64\n",
            " 37  1993            242 non-null    float64\n",
            " 38  1994            244 non-null    float64\n",
            " 39  1995            244 non-null    float64\n",
            " 40  1996            243 non-null    float64\n",
            " 41  1997            246 non-null    float64\n",
            " 42  1998            243 non-null    float64\n",
            " 43  1999            244 non-null    float64\n",
            " 44  2000            247 non-null    float64\n",
            " 45  2001            245 non-null    float64\n",
            " 46  2002            248 non-null    float64\n",
            " 47  2003            245 non-null    float64\n",
            " 48  2004            245 non-null    float64\n",
            " 49  2005            246 non-null    float64\n",
            " 50  2006            246 non-null    float64\n",
            " 51  2007            247 non-null    float64\n",
            " 52  2008            247 non-null    float64\n",
            " 53  2009            247 non-null    float64\n",
            " 54  2010            246 non-null    float64\n",
            " 55  2011            246 non-null    float64\n",
            " 56  2012            248 non-null    float64\n",
            " 57  2013            246 non-null    float64\n",
            " 58  2014            247 non-null    float64\n",
            " 59  2015            247 non-null    float64\n",
            " 60  2016            247 non-null    float64\n",
            " 61  2017            245 non-null    float64\n",
            " 62  2018            244 non-null    float64\n",
            " 63  2019            0 non-null      float64\n",
            " 64  2020            0 non-null      float64\n",
            " 65  Unnamed: 65     0 non-null      float64\n",
            "dtypes: float64(62), object(4)\n",
            "memory usage: 138.2+ KB\n"
          ],
          "name": "stdout"
        }
      ]
    },
    {
      "cell_type": "markdown",
      "metadata": {
        "id": "dpBC5slBd1a2"
      },
      "source": [
        "As we can see from the above, there are quite a few null values, let's fix that by dropping them."
      ]
    },
    {
      "cell_type": "code",
      "metadata": {
        "id": "U-bff9WCd8-9",
        "outputId": "1aabba10-cd71-4ffa-e176-ace34a0bd644",
        "colab": {
          "base_uri": "https://localhost:8080/",
          "height": 1000
        }
      },
      "source": [
        "#Here we just drop all of the NA columns\n",
        "electricity_df = electricity_df.dropna(1,'all')\n",
        "gdp_df = gdp_df.dropna(1,'all')\n",
        "health_worker_df = health_worker_df.dropna(1,'all')\n",
        "life_expectancy_df = life_expectancy_df.dropna(1,'all')\n",
        "\n",
        "#Once again, let's check the info of our dataframes to verify that the commands worked\n",
        "electricity_df.info()\n",
        "gdp_df.info()\n",
        "health_worker_df.info()\n",
        "life_expectancy_df.info()"
      ],
      "execution_count": null,
      "outputs": [
        {
          "output_type": "stream",
          "text": [
            "<class 'pandas.core.frame.DataFrame'>\n",
            "Int64Index: 264 entries, 1 to 377932\n",
            "Data columns (total 33 columns):\n",
            " #   Column          Non-Null Count  Dtype  \n",
            "---  ------          --------------  -----  \n",
            " 0   Country Name    264 non-null    object \n",
            " 1   Country Code    264 non-null    object \n",
            " 2   Indicator Name  264 non-null    object \n",
            " 3   Indicator Code  264 non-null    object \n",
            " 4   1990            82 non-null     float64\n",
            " 5   1991            93 non-null     float64\n",
            " 6   1992            108 non-null    float64\n",
            " 7   1993            118 non-null    float64\n",
            " 8   1994            123 non-null    float64\n",
            " 9   1995            130 non-null    float64\n",
            " 10  1996            139 non-null    float64\n",
            " 11  1997            145 non-null    float64\n",
            " 12  1998            150 non-null    float64\n",
            " 13  1999            156 non-null    float64\n",
            " 14  2000            174 non-null    float64\n",
            " 15  2001            183 non-null    float64\n",
            " 16  2002            191 non-null    float64\n",
            " 17  2003            191 non-null    float64\n",
            " 18  2004            193 non-null    float64\n",
            " 19  2005            200 non-null    float64\n",
            " 20  2006            204 non-null    float64\n",
            " 21  2007            206 non-null    float64\n",
            " 22  2008            206 non-null    float64\n",
            " 23  2009            210 non-null    float64\n",
            " 24  2010            213 non-null    float64\n",
            " 25  2011            214 non-null    float64\n",
            " 26  2012            215 non-null    float64\n",
            " 27  2013            215 non-null    float64\n",
            " 28  2014            215 non-null    float64\n",
            " 29  2015            215 non-null    float64\n",
            " 30  2016            215 non-null    float64\n",
            " 31  2017            215 non-null    float64\n",
            " 32  2018            215 non-null    float64\n",
            "dtypes: float64(29), object(4)\n",
            "memory usage: 70.1+ KB\n",
            "<class 'pandas.core.frame.DataFrame'>\n",
            "Int64Index: 264 entries, 464 to 378395\n",
            "Data columns (total 64 columns):\n",
            " #   Column          Non-Null Count  Dtype  \n",
            "---  ------          --------------  -----  \n",
            " 0   Country Name    264 non-null    object \n",
            " 1   Country Code    264 non-null    object \n",
            " 2   Indicator Name  264 non-null    object \n",
            " 3   Indicator Code  264 non-null    object \n",
            " 4   1960            118 non-null    float64\n",
            " 5   1961            122 non-null    float64\n",
            " 6   1962            122 non-null    float64\n",
            " 7   1963            122 non-null    float64\n",
            " 8   1964            122 non-null    float64\n",
            " 9   1965            128 non-null    float64\n",
            " 10  1966            132 non-null    float64\n",
            " 11  1967            133 non-null    float64\n",
            " 12  1968            137 non-null    float64\n",
            " 13  1969            137 non-null    float64\n",
            " 14  1970            153 non-null    float64\n",
            " 15  1971            153 non-null    float64\n",
            " 16  1972            153 non-null    float64\n",
            " 17  1973            153 non-null    float64\n",
            " 18  1974            155 non-null    float64\n",
            " 19  1975            159 non-null    float64\n",
            " 20  1976            160 non-null    float64\n",
            " 21  1977            165 non-null    float64\n",
            " 22  1978            165 non-null    float64\n",
            " 23  1979            166 non-null    float64\n",
            " 24  1980            177 non-null    float64\n",
            " 25  1981            182 non-null    float64\n",
            " 26  1982            186 non-null    float64\n",
            " 27  1983            186 non-null    float64\n",
            " 28  1984            189 non-null    float64\n",
            " 29  1985            190 non-null    float64\n",
            " 30  1986            194 non-null    float64\n",
            " 31  1987            197 non-null    float64\n",
            " 32  1988            199 non-null    float64\n",
            " 33  1989            202 non-null    float64\n",
            " 34  1990            215 non-null    float64\n",
            " 35  1991            216 non-null    float64\n",
            " 36  1992            219 non-null    float64\n",
            " 37  1993            221 non-null    float64\n",
            " 38  1994            223 non-null    float64\n",
            " 39  1995            229 non-null    float64\n",
            " 40  1996            229 non-null    float64\n",
            " 41  1997            232 non-null    float64\n",
            " 42  1998            232 non-null    float64\n",
            " 43  1999            233 non-null    float64\n",
            " 44  2000            239 non-null    float64\n",
            " 45  2001            240 non-null    float64\n",
            " 46  2002            245 non-null    float64\n",
            " 47  2003            245 non-null    float64\n",
            " 48  2004            246 non-null    float64\n",
            " 49  2005            246 non-null    float64\n",
            " 50  2006            247 non-null    float64\n",
            " 51  2007            247 non-null    float64\n",
            " 52  2008            248 non-null    float64\n",
            " 53  2009            248 non-null    float64\n",
            " 54  2010            252 non-null    float64\n",
            " 55  2011            248 non-null    float64\n",
            " 56  2012            247 non-null    float64\n",
            " 57  2013            247 non-null    float64\n",
            " 58  2014            246 non-null    float64\n",
            " 59  2015            245 non-null    float64\n",
            " 60  2016            244 non-null    float64\n",
            " 61  2017            244 non-null    float64\n",
            " 62  2018            238 non-null    float64\n",
            " 63  2019            222 non-null    float64\n",
            "dtypes: float64(60), object(4)\n",
            "memory usage: 134.1+ KB\n",
            "<class 'pandas.core.frame.DataFrame'>\n",
            "Int64Index: 264 entries, 214 to 378145\n",
            "Data columns (total 31 columns):\n",
            " #   Column          Non-Null Count  Dtype  \n",
            "---  ------          --------------  -----  \n",
            " 0   Country Name    264 non-null    object \n",
            " 1   Country Code    264 non-null    object \n",
            " 2   Indicator Name  264 non-null    object \n",
            " 3   Indicator Code  264 non-null    object \n",
            " 4   1990            6 non-null      float64\n",
            " 5   1991            3 non-null      float64\n",
            " 6   1992            3 non-null      float64\n",
            " 7   1993            3 non-null      float64\n",
            " 8   1994            2 non-null      float64\n",
            " 9   1995            3 non-null      float64\n",
            " 10  1996            5 non-null      float64\n",
            " 11  1997            3 non-null      float64\n",
            " 12  1998            6 non-null      float64\n",
            " 13  1999            6 non-null      float64\n",
            " 14  2000            11 non-null     float64\n",
            " 15  2001            8 non-null      float64\n",
            " 16  2002            3 non-null      float64\n",
            " 17  2003            7 non-null      float64\n",
            " 18  2004            29 non-null     float64\n",
            " 19  2005            8 non-null      float64\n",
            " 20  2006            7 non-null      float64\n",
            " 21  2007            11 non-null     float64\n",
            " 22  2008            21 non-null     float64\n",
            " 23  2009            14 non-null     float64\n",
            " 24  2010            13 non-null     float64\n",
            " 25  2011            14 non-null     float64\n",
            " 26  2012            7 non-null      float64\n",
            " 27  2013            6 non-null      float64\n",
            " 28  2014            3 non-null      float64\n",
            " 29  2015            4 non-null      float64\n",
            " 30  2016            6 non-null      float64\n",
            "dtypes: float64(27), object(4)\n",
            "memory usage: 66.0+ KB\n",
            "<class 'pandas.core.frame.DataFrame'>\n",
            "Int64Index: 264 entries, 698 to 378629\n",
            "Data columns (total 63 columns):\n",
            " #   Column          Non-Null Count  Dtype  \n",
            "---  ------          --------------  -----  \n",
            " 0   Country Name    264 non-null    object \n",
            " 1   Country Code    264 non-null    object \n",
            " 2   Indicator Name  264 non-null    object \n",
            " 3   Indicator Code  264 non-null    object \n",
            " 4   1960            235 non-null    float64\n",
            " 5   1961            236 non-null    float64\n",
            " 6   1962            236 non-null    float64\n",
            " 7   1963            235 non-null    float64\n",
            " 8   1964            235 non-null    float64\n",
            " 9   1965            236 non-null    float64\n",
            " 10  1966            236 non-null    float64\n",
            " 11  1967            236 non-null    float64\n",
            " 12  1968            236 non-null    float64\n",
            " 13  1969            236 non-null    float64\n",
            " 14  1970            237 non-null    float64\n",
            " 15  1971            236 non-null    float64\n",
            " 16  1972            236 non-null    float64\n",
            " 17  1973            237 non-null    float64\n",
            " 18  1974            236 non-null    float64\n",
            " 19  1975            236 non-null    float64\n",
            " 20  1976            236 non-null    float64\n",
            " 21  1977            236 non-null    float64\n",
            " 22  1978            238 non-null    float64\n",
            " 23  1979            237 non-null    float64\n",
            " 24  1980            239 non-null    float64\n",
            " 25  1981            239 non-null    float64\n",
            " 26  1982            242 non-null    float64\n",
            " 27  1983            240 non-null    float64\n",
            " 28  1984            240 non-null    float64\n",
            " 29  1985            240 non-null    float64\n",
            " 30  1986            241 non-null    float64\n",
            " 31  1987            244 non-null    float64\n",
            " 32  1988            241 non-null    float64\n",
            " 33  1989            241 non-null    float64\n",
            " 34  1990            243 non-null    float64\n",
            " 35  1991            244 non-null    float64\n",
            " 36  1992            244 non-null    float64\n",
            " 37  1993            242 non-null    float64\n",
            " 38  1994            244 non-null    float64\n",
            " 39  1995            244 non-null    float64\n",
            " 40  1996            243 non-null    float64\n",
            " 41  1997            246 non-null    float64\n",
            " 42  1998            243 non-null    float64\n",
            " 43  1999            244 non-null    float64\n",
            " 44  2000            247 non-null    float64\n",
            " 45  2001            245 non-null    float64\n",
            " 46  2002            248 non-null    float64\n",
            " 47  2003            245 non-null    float64\n",
            " 48  2004            245 non-null    float64\n",
            " 49  2005            246 non-null    float64\n",
            " 50  2006            246 non-null    float64\n",
            " 51  2007            247 non-null    float64\n",
            " 52  2008            247 non-null    float64\n",
            " 53  2009            247 non-null    float64\n",
            " 54  2010            246 non-null    float64\n",
            " 55  2011            246 non-null    float64\n",
            " 56  2012            248 non-null    float64\n",
            " 57  2013            246 non-null    float64\n",
            " 58  2014            247 non-null    float64\n",
            " 59  2015            247 non-null    float64\n",
            " 60  2016            247 non-null    float64\n",
            " 61  2017            245 non-null    float64\n",
            " 62  2018            244 non-null    float64\n",
            "dtypes: float64(59), object(4)\n",
            "memory usage: 132.0+ KB\n"
          ],
          "name": "stdout"
        }
      ]
    },
    {
      "cell_type": "markdown",
      "metadata": {
        "id": "7iwBJjXJEREY"
      },
      "source": [
        "Now, we need to set up a way to easily create dataframes from individual years. We'll do this by creating a function 'yeardata' that will pull yearly information for us and organize it into a datframe."
      ]
    },
    {
      "cell_type": "code",
      "metadata": {
        "id": "x1iIdOmivfKi"
      },
      "source": [
        "#Here we are going to create a function that will take a year as text and create a dataframe of all the relavent data from that year in each category\n",
        "def convert_to_list(dataframe):  #this function helps us convert dataframes into lists\n",
        "  converted = []\n",
        "  for line in dataframe:\n",
        "    converted.append(line)\n",
        "  return converted\n",
        "\n",
        "def yeardata(year): #here we extract the dataframe information into lists, and then form a new dataframe for an individual year\n",
        "  electricity = convert_to_list(electricity_df[year])\n",
        "  gdp = convert_to_list(gdp_df[year])\n",
        "  health = convert_to_list(health_worker_df[year])\n",
        "  life = convert_to_list(life_expectancy_df[year])\n",
        "  country = convert_to_list(gdp_df['Country Name'])\n",
        "  dictionary = {'Country' : country,\n",
        "                'Electricity': electricity,\n",
        "                'GDP' : gdp,\n",
        "                'Health' : health,\n",
        "                'Life' : life}\n",
        "  year_df = pd.DataFrame.from_dict(dictionary)\n",
        "  return year_df\n"
      ],
      "execution_count": null,
      "outputs": []
    },
    {
      "cell_type": "markdown",
      "metadata": {
        "id": "7psbeh05EskV"
      },
      "source": [
        "Now that that's finished, before we can get to analyzing yearly data, we'll create a dataframe that has the data for all of the indicators we are interested in, for every year that we have data for all 4 indicators."
      ]
    },
    {
      "cell_type": "code",
      "metadata": {
        "id": "NucX7R5hSONI",
        "outputId": "943b240d-1ce0-4032-b896-d6e930a9a2a7",
        "colab": {
          "base_uri": "https://localhost:8080/",
          "height": 54
        }
      },
      "source": [
        "#First, lets take a look at the overall spread of the data across all years, and\n",
        "#then begin breaking it down into smaller chunks.\n",
        "years = []\n",
        "for item in electricity_df.columns:\n",
        "  #validate the column name, to make sure we only add years to our list\n",
        "  if item != 'Country Name' and item != 'Country Code' and item != 'Indicator Name' and item != 'Indicator Code':\n",
        "    years.append(item)\n",
        "print(years)"
      ],
      "execution_count": null,
      "outputs": [
        {
          "output_type": "stream",
          "text": [
            "['1990', '1991', '1992', '1993', '1994', '1995', '1996', '1997', '1998', '1999', '2000', '2001', '2002', '2003', '2004', '2005', '2006', '2007', '2008', '2009', '2010', '2011', '2012', '2013', '2014', '2015', '2016', '2017', '2018']\n"
          ],
          "name": "stdout"
        }
      ]
    },
    {
      "cell_type": "code",
      "metadata": {
        "id": "OHkDsJPlUI-q",
        "outputId": "4fffb99d-56b4-4578-8e60-b0a6663775d4",
        "colab": {
          "base_uri": "https://localhost:8080/",
          "height": 258
        }
      },
      "source": [
        "#Here we create an empty dataframe so that we can begin to populate it with \n",
        "#our data spread across the years that we have data for in each dataframe.\n",
        "all_years_df = pd.DataFrame(columns = ['Country', 'Electricity', 'GDP', 'Health', 'Life'])\n",
        "\n",
        "#Let's also create a list of the years added, which we'll refer to as 'valid_years'\n",
        "valid_years = []\n",
        "\n",
        "#Now, we validate our list of 'years' to make sure all of the dataframes\n",
        "#share the data we will be pulling for those years. \n",
        "for year in years:\n",
        "  if (year in electricity_df.columns) and (year in gdp_df.columns) and (year in health_worker_df.columns) and (year in life_expectancy_df.columns):  \n",
        "    all_years_df = all_years_df.append(yeardata(year))\n",
        "    valid_years.append(year)\n",
        "    \n",
        "\n",
        "#Lastly, we check to make sure that the dataframe was created correctly.\n",
        "all_years_df.info()\n",
        "print('The valid years are: {}'.format(valid_years))"
      ],
      "execution_count": null,
      "outputs": [
        {
          "output_type": "stream",
          "text": [
            "<class 'pandas.core.frame.DataFrame'>\n",
            "Int64Index: 7128 entries, 0 to 263\n",
            "Data columns (total 5 columns):\n",
            " #   Column       Non-Null Count  Dtype  \n",
            "---  ------       --------------  -----  \n",
            " 0   Country      7128 non-null   object \n",
            " 1   Electricity  4704 non-null   float64\n",
            " 2   GDP          6429 non-null   float64\n",
            " 3   Health       212 non-null    float64\n",
            " 4   Life         6627 non-null   float64\n",
            "dtypes: float64(4), object(1)\n",
            "memory usage: 334.1+ KB\n",
            "The valid years are: ['1990', '1991', '1992', '1993', '1994', '1995', '1996', '1997', '1998', '1999', '2000', '2001', '2002', '2003', '2004', '2005', '2006', '2007', '2008', '2009', '2010', '2011', '2012', '2013', '2014', '2015', '2016']\n"
          ],
          "name": "stdout"
        }
      ]
    },
    {
      "cell_type": "code",
      "metadata": {
        "id": "81f0e0CumVIV",
        "outputId": "1dcae410-7e8c-4d9e-951c-afab1c4a5fb7",
        "colab": {
          "base_uri": "https://localhost:8080/",
          "height": 34
        }
      },
      "source": [
        "#Here we just check the number of years that we have data for. This isn't immediately important, but we'll use that number later. \n",
        "print(len(valid_years))"
      ],
      "execution_count": null,
      "outputs": [
        {
          "output_type": "stream",
          "text": [
            "27\n"
          ],
          "name": "stdout"
        }
      ]
    },
    {
      "cell_type": "markdown",
      "metadata": {
        "id": "J-7gGC8lFIAa"
      },
      "source": [
        "Now that we have everything prepared, we can begin to analyze our data. We'll start by creating distribution graphs for each indicator in our 'all_years_df' to get an idea for what our data looks like. "
      ]
    },
    {
      "cell_type": "code",
      "metadata": {
        "id": "i5CoTClp4gU7",
        "outputId": "c2ac6186-d8db-4a48-eaba-7f152dd5ac35",
        "colab": {
          "base_uri": "https://localhost:8080/",
          "height": 1000
        }
      },
      "source": [
        "sns.displot(all_years_df['Electricity'])\n",
        "sns.displot(all_years_df['GDP'],)\n",
        "sns.displot(all_years_df['Health'])\n",
        "sns.displot(all_years_df['Life'])"
      ],
      "execution_count": null,
      "outputs": [
        {
          "output_type": "execute_result",
          "data": {
            "text/plain": [
              "<seaborn.axisgrid.FacetGrid at 0x7f2fa958afd0>"
            ]
          },
          "metadata": {
            "tags": []
          },
          "execution_count": 10
        },
        {
          "output_type": "display_data",
          "data": {
            "image/png": "[encoded data removed]",
            "text/plain": [
              "<Figure size 360x360 with 1 Axes>"
            ]
          },
          "metadata": {
            "tags": [],
            "needs_background": "light"
          }
        },
        {
          "output_type": "display_data",
          "data": {
            "image/png": "[encoded data removed]",
            "text/plain": [
              "<Figure size 360x360 with 1 Axes>"
            ]
          },
          "metadata": {
            "tags": [],
            "needs_background": "light"
          }
        },
        {
          "output_type": "display_data",
          "data": {
            "image/png": "[encoded data removed]",
            "text/plain": [
              "<Figure size 360x360 with 1 Axes>"
            ]
          },
          "metadata": {
            "tags": [],
            "needs_background": "light"
          }
        },
        {
          "output_type": "display_data",
          "data": {
            "image/png": "[encoded data removed]",
            "text/plain": [
              "<Figure size 360x360 with 1 Axes>"
            ]
          },
          "metadata": {
            "tags": [],
            "needs_background": "light"
          }
        }
      ]
    },
    {
      "cell_type": "markdown",
      "metadata": {
        "id": "69ZvgYkGp4HX"
      },
      "source": [
        "The above are distribution graphs. Now, we will move into plotting the variables against one another in a scatterplot format."
      ]
    },
    {
      "cell_type": "code",
      "metadata": {
        "id": "x3S9Xgtgp17J",
        "outputId": "4f7a3de0-959a-4cdf-b780-2742ce36e818",
        "colab": {
          "base_uri": "https://localhost:8080/",
          "height": 302
        }
      },
      "source": [
        "sns.scatterplot(x='Electricity', y='Life', data=all_years_df)"
      ],
      "execution_count": null,
      "outputs": [
        {
          "output_type": "execute_result",
          "data": {
            "text/plain": [
              "<matplotlib.axes._subplots.AxesSubplot at 0x7f2fa989ed30>"
            ]
          },
          "metadata": {
            "tags": []
          },
          "execution_count": 11
        },
        {
          "output_type": "display_data",
          "data": {
            "image/png": "[encoded data removed]",
            "text/plain": [
              "<Figure size 432x288 with 1 Axes>"
            ]
          },
          "metadata": {
            "tags": [],
            "needs_background": "light"
          }
        }
      ]
    },
    {
      "cell_type": "code",
      "metadata": {
        "id": "6MSV9sSJqYOr",
        "outputId": "b214a218-0935-44d7-cbbb-326ed182a191",
        "colab": {
          "base_uri": "https://localhost:8080/",
          "height": 302
        }
      },
      "source": [
        "sns.scatterplot(x='GDP', y='Life', data=all_years_df)"
      ],
      "execution_count": null,
      "outputs": [
        {
          "output_type": "execute_result",
          "data": {
            "text/plain": [
              "<matplotlib.axes._subplots.AxesSubplot at 0x7f2fa981df98>"
            ]
          },
          "metadata": {
            "tags": []
          },
          "execution_count": 12
        },
        {
          "output_type": "display_data",
          "data": {
            "image/png": "[encoded data removed]",
            "text/plain": [
              "<Figure size 432x288 with 1 Axes>"
            ]
          },
          "metadata": {
            "tags": [],
            "needs_background": "light"
          }
        }
      ]
    },
    {
      "cell_type": "code",
      "metadata": {
        "id": "MFEpEeWRqZ9s",
        "outputId": "0c80b830-094e-434b-ad0a-04926f9a46a3",
        "colab": {
          "base_uri": "https://localhost:8080/",
          "height": 302
        }
      },
      "source": [
        "sns.scatterplot(x='Health', y='Life', data=all_years_df)"
      ],
      "execution_count": null,
      "outputs": [
        {
          "output_type": "execute_result",
          "data": {
            "text/plain": [
              "<matplotlib.axes._subplots.AxesSubplot at 0x7f2fa8e9b550>"
            ]
          },
          "metadata": {
            "tags": []
          },
          "execution_count": 13
        },
        {
          "output_type": "display_data",
          "data": {
            "image/png": "[encoded data removed]",
            "text/plain": [
              "<Figure size 432x288 with 1 Axes>"
            ]
          },
          "metadata": {
            "tags": [],
            "needs_background": "light"
          }
        }
      ]
    },
    {
      "cell_type": "markdown",
      "metadata": {
        "id": "RwRa4-_2Gg0b"
      },
      "source": [
        "Keep in mind that the above graphs include multiple records for some countries because they cover data from multiple years. This is just to get a feel for the sorts of distributions we'll see."
      ]
    },
    {
      "cell_type": "code",
      "metadata": {
        "id": "i2WPo9cb5DGP",
        "outputId": "f34e1fe7-e177-4b9b-bf4b-3712f6a77276",
        "colab": {
          "base_uri": "https://localhost:8080/",
          "height": 204
        }
      },
      "source": [
        "test_df = all_years_df.sort_values(by=['Life'],ascending=True,)\n",
        "test_df.head()"
      ],
      "execution_count": null,
      "outputs": [
        {
          "output_type": "execute_result",
          "data": {
            "text/html": [
              "<div>\n",
              "<style scoped>\n",
              "    .dataframe tbody tr th:only-of-type {\n",
              "        vertical-align: middle;\n",
              "    }\n",
              "\n",
              "    .dataframe tbody tr th {\n",
              "        vertical-align: top;\n",
              "    }\n",
              "\n",
              "    .dataframe thead th {\n",
              "        text-align: right;\n",
              "    }\n",
              "</style>\n",
              "<table border=\"1\" class=\"dataframe\">\n",
              "  <thead>\n",
              "    <tr style=\"text-align: right;\">\n",
              "      <th></th>\n",
              "      <th>Country</th>\n",
              "      <th>Electricity</th>\n",
              "      <th>GDP</th>\n",
              "      <th>Health</th>\n",
              "      <th>Life</th>\n",
              "    </tr>\n",
              "  </thead>\n",
              "  <tbody>\n",
              "    <tr>\n",
              "      <th>209</th>\n",
              "      <td>Rwanda</td>\n",
              "      <td>0.010000</td>\n",
              "      <td>2.631404e+09</td>\n",
              "      <td>NaN</td>\n",
              "      <td>26.172</td>\n",
              "    </tr>\n",
              "    <tr>\n",
              "      <th>209</th>\n",
              "      <td>Rwanda</td>\n",
              "      <td>2.300000</td>\n",
              "      <td>2.863605e+09</td>\n",
              "      <td>NaN</td>\n",
              "      <td>26.691</td>\n",
              "    </tr>\n",
              "    <tr>\n",
              "      <th>209</th>\n",
              "      <td>Rwanda</td>\n",
              "      <td>0.010000</td>\n",
              "      <td>1.309174e+09</td>\n",
              "      <td>NaN</td>\n",
              "      <td>27.738</td>\n",
              "    </tr>\n",
              "    <tr>\n",
              "      <th>209</th>\n",
              "      <td>Rwanda</td>\n",
              "      <td>NaN</td>\n",
              "      <td>2.704761e+09</td>\n",
              "      <td>NaN</td>\n",
              "      <td>29.248</td>\n",
              "    </tr>\n",
              "    <tr>\n",
              "      <th>209</th>\n",
              "      <td>Rwanda</td>\n",
              "      <td>0.075259</td>\n",
              "      <td>1.770319e+09</td>\n",
              "      <td>NaN</td>\n",
              "      <td>31.037</td>\n",
              "    </tr>\n",
              "  </tbody>\n",
              "</table>\n",
              "</div>"
            ],
            "text/plain": [
              "    Country  Electricity           GDP  Health    Life\n",
              "209  Rwanda     0.010000  2.631404e+09     NaN  26.172\n",
              "209  Rwanda     2.300000  2.863605e+09     NaN  26.691\n",
              "209  Rwanda     0.010000  1.309174e+09     NaN  27.738\n",
              "209  Rwanda          NaN  2.704761e+09     NaN  29.248\n",
              "209  Rwanda     0.075259  1.770319e+09     NaN  31.037"
            ]
          },
          "metadata": {
            "tags": []
          },
          "execution_count": 14
        }
      ]
    },
    {
      "cell_type": "code",
      "metadata": {
        "id": "6K5SilOxk-Wn",
        "outputId": "aed4d6db-c486-493d-bbc5-ce493afa5b77",
        "colab": {
          "base_uri": "https://localhost:8080/",
          "height": 1000
        }
      },
      "source": [
        "all_years_df_corr = all_years_df.dropna(axis=0,how='any')\n",
        "\n",
        "with pd.option_context('display.max_rows', None, 'display.max_columns', None):  # more options can be specified also\n",
        "    print(all_years_df_corr)"
      ],
      "execution_count": null,
      "outputs": [
        {
          "output_type": "stream",
          "text": [
            "                            Country  Electricity           GDP  Health  \\\n",
            "87                            Chile    94.560057  9.438933e+10   0.021   \n",
            "57                        Australia   100.000000  7.151577e+11   0.039   \n",
            "72                         Botswana    23.115320  7.656466e+09   0.442   \n",
            "121                           Ghana    42.600000  1.696701e+10   0.488   \n",
            "125                         Grenada    85.040000  5.763953e+08   0.395   \n",
            "196                        Pakistan    70.460000  1.080293e+11   0.038   \n",
            "72                         Botswana    25.199066  8.396635e+09   0.454   \n",
            "121                           Ghana    42.504211  1.771356e+10   0.556   \n",
            "125                         Grenada    85.526489  6.161571e+08   0.444   \n",
            "196                        Pakistan    70.297935  1.119833e+11   0.039   \n",
            "72                         Botswana    27.277466  8.563535e+09   0.731   \n",
            "88                            China    96.907104  2.232146e+12   1.033   \n",
            "109                         Estonia   100.000000  1.405707e+10   0.031   \n",
            "121                           Ghana    43.700000  1.836896e+10   0.556   \n",
            "125                         Grenada    85.959808  6.462746e+08   0.443   \n",
            "196                        Pakistan    70.369331  1.167539e+11   0.039   \n",
            "198                          Panama    81.401410  1.664754e+10   0.460   \n",
            "231  St. Vincent and the Grenadines    79.867661  5.123035e+08   0.417   \n",
            "239                        Thailand    82.100000  2.177124e+11   0.059   \n",
            "57                        Australia   100.000000  8.655325e+11   0.197   \n",
            "70                          Bolivia    69.258539  1.370814e+10   0.118   \n",
            "72                         Botswana    24.800000  8.584993e+09   0.466   \n",
            "88                            China    97.218140  2.418305e+12   0.084   \n",
            "121                           Ghana    46.631435  1.910372e+10   0.556   \n",
            "125                         Grenada    86.383316  6.331946e+08   0.442   \n",
            "196                        Pakistan    70.431381  1.209038e+11   0.040   \n",
            "72                         Botswana    31.400351  9.106061e+09   0.482   \n",
            "121                           Ghana    48.675858  1.996338e+10   0.556   \n",
            "125                         Grenada    86.792542  6.549595e+08   0.441   \n",
            "72                         Botswana    33.435894  9.527298e+09   0.479   \n",
            "88                            China    97.792900  2.903963e+12   0.668   \n",
            "111                        Ethiopia    27.346582  1.406410e+10   0.185   \n",
            "118                     Gambia, The    27.800000  1.200298e+09   0.305   \n",
            "121                           Ghana    48.300000  2.100148e+10   0.563   \n",
            "125                         Grenada    87.183006  7.169447e+08   0.440   \n",
            "136                           India    64.179840  1.025011e+12   0.627   \n",
            "62                       Bangladesh    40.600000  8.059285e+10   0.151   \n",
            "69                           Bhutan    51.978729  9.097065e+08   0.732   \n",
            "77                     Burkina Faso    10.970961  7.119352e+09   0.092   \n",
            "78                          Burundi     4.264292  1.613820e+09   0.072   \n",
            "79                       Cabo Verde    65.282921  1.171579e+09   0.139   \n",
            "80                         Cambodia    25.343929  7.186163e+09   0.125   \n",
            "84         Central African Republic     7.753098  1.670857e+09   0.025   \n",
            "85                             Chad     3.500000  7.172881e+09   0.016   \n",
            "88                            China    98.047676  3.197589e+12   0.676   \n",
            "110                        Eswatini    31.510887  3.559360e+09   3.654   \n",
            "111                        Ethiopia    28.202297  1.597297e+10   0.211   \n",
            "136                           India    64.400000  1.106222e+12   0.621   \n",
            "138              Iran, Islamic Rep.    98.308357  3.877609e+11   0.364   \n",
            "146                          Jordan    99.173437  1.831137e+10   0.193   \n",
            "151                     Korea, Rep.   100.000000  8.880852e+11   0.326   \n",
            "168                        Maldives    90.257584  2.013101e+09   1.717   \n",
            "173                       Mauritius    98.937561  7.800679e+09   0.194   \n",
            "182                         Myanmar    46.345905  2.577761e+10   0.999   \n",
            "185                           Nepal    37.200000  1.244459e+10   0.684   \n",
            "209                          Rwanda     8.952478  3.771192e+09   1.359   \n",
            "212           Sao Tome and Principe    55.024792  1.384446e+08   1.002   \n",
            "217                    Sierra Leone    16.800000  1.911798e+09   0.115   \n",
            "224                    South Africa    80.900000  3.060764e+11   0.192   \n",
            "232                           Sudan    35.840820  4.218505e+10   0.151   \n",
            "240                     Timor-Leste    30.443680  6.041606e+08   0.010   \n",
            "261                     Yemen, Rep.    49.590000  2.367815e+10   0.128   \n",
            "62                       Bangladesh    44.230000  8.586036e+10   0.147   \n",
            "72                         Botswana    37.435520  1.023096e+10   0.494   \n",
            "88                            China    98.277435  3.561979e+12   0.698   \n",
            "136                           India    67.443436  1.193873e+12   0.627   \n",
            "151                     Korea, Rep.   100.000000  9.263487e+11   0.321   \n",
            "182                         Myanmar    47.402584  2.927536e+10   0.077   \n",
            "249                          Uganda     8.900000  1.796080e+10   0.194   \n",
            "262                          Zambia    22.613844  1.335051e+10   0.372   \n",
            "57                        Australia   100.000000  1.023371e+12   0.049   \n",
            "72                         Botswana    39.406715  1.108667e+10   0.485   \n",
            "77                     Burkina Faso    11.757365  8.219767e+09   0.091   \n",
            "88                            China    98.491081  4.015045e+12   0.725   \n",
            "136                           India    67.900000  1.290108e+12   0.614   \n",
            "151                     Korea, Rep.   100.000000  9.751147e+11   0.332   \n",
            "182                         Myanmar    48.443157  3.310343e+10   0.080   \n",
            "69                           Bhutan    71.800000  1.236062e+09   0.728   \n",
            "88                            China    98.700211  4.586441e+12   0.702   \n",
            "111                        Ethiopia    79.930881  2.206380e+10   0.218   \n",
            "115                          France   100.000000  2.661974e+12   0.028   \n",
            "118                     Gambia, The    39.358807  1.285701e+09   0.752   \n",
            "136                           India    70.645271  1.388940e+12   0.614   \n",
            "151                     Korea, Rep.   100.000000  1.031667e+12   0.347   \n",
            "168                        Maldives    92.804825  2.375562e+09   1.515   \n",
            "182                         Myanmar    49.479202  3.707301e+10   0.082   \n",
            "191                         Nigeria    50.130919  2.916698e+11   0.131   \n",
            "256                         Vanuatu    33.624620  6.270251e+08   0.514   \n",
            "69                           Bhutan    67.448082  1.295386e+09   0.129   \n",
            "72                         Botswana    43.100000  1.275400e+10   0.229   \n",
            "84         Central African Republic     9.735060  1.885823e+09   0.408   \n",
            "88                            China    98.916397  5.029229e+12   0.703   \n",
            "111                        Ethiopia    31.474770  2.444416e+10   0.296   \n",
            "118                     Gambia, The    40.907955  1.366134e+09   0.725   \n",
            "121                           Ghana    60.500000  2.846120e+10   0.195   \n",
            "136                           India    72.250992  1.431813e+12   0.630   \n",
            "144                         Jamaica    92.000000  1.402550e+10   0.268   \n",
            "151                     Korea, Rep.   100.000000  1.062751e+12   0.362   \n",
            "166                          Malawi     7.871597  6.011381e+09   0.723   \n",
            "175           Micronesia, Fed. Sts.    60.719913  2.872434e+08   0.297   \n",
            "178                        Mongolia    79.068848  6.846094e+09   0.023   \n",
            "182                         Myanmar    50.522308  4.087496e+10   0.082   \n",
            "191                         Nigeria    50.300000  3.113998e+11   0.128   \n",
            "196                        Pakistan    70.387283  1.695627e+11   0.061   \n",
            "199                Papua New Guinea    25.154779  1.211617e+10   0.594   \n",
            "217                    Sierra Leone    12.100000  2.371581e+09   0.024   \n",
            "256                         Vanuatu    36.408524  6.674589e+08   0.941   \n",
            "262                          Zambia    24.445810  1.682234e+10   0.287   \n",
            "66                           Belize    88.672371  1.337064e+09   0.503   \n",
            "72                         Botswana    45.339489  1.177803e+10   0.083   \n",
            "84         Central African Republic    10.248199  2.047763e+09   0.393   \n",
            "88                            China    99.151222  5.501968e+12   0.830   \n",
            "111                        Ethiopia    32.310535  2.659587e+10   0.363   \n",
            "130                          Guyana    77.600000  2.182885e+09   0.326   \n",
            "136                           India    75.000000  1.544380e+12   0.620   \n",
            "151                     Korea, Rep.   100.000000  1.071175e+12   0.377   \n",
            "168                        Maldives    99.900000  2.412877e+09   1.570   \n",
            "169                            Mali    24.030896  1.014981e+10   0.008   \n",
            "178                        Mongolia    80.100449  6.759245e+09   0.123   \n",
            "182                         Myanmar    51.584057  4.518727e+10   0.193   \n",
            "196                        Pakistan    70.385170  1.743641e+11   0.064   \n",
            "77                     Burkina Faso    13.100000  1.010962e+10   0.126   \n",
            "88                            China    99.700000  6.087165e+12   0.810   \n",
            "130                          Guyana    82.397842  2.273225e+09   0.325   \n",
            "136                           India    76.300000  1.675615e+12   0.578   \n",
            "159                         Liberia     5.189858  1.998000e+09   0.061   \n",
            "167                        Malaysia    99.231186  2.550166e+11   0.435   \n",
            "168                        Maldives    99.109329  2.588176e+09   1.777   \n",
            "169                            Mali    27.833570  1.068917e+10   0.007   \n",
            "178                        Mongolia    78.502080  7.189482e+09   0.161   \n",
            "182                         Myanmar    48.800000  4.954081e+10   0.193   \n",
            "196                        Pakistan    70.421844  1.771656e+11   0.068   \n",
            "217                    Sierra Leone    11.462173  2.578026e+09   0.023   \n",
            "261                     Yemen, Rep.    73.748871  3.090675e+10   0.001   \n",
            "62                       Bangladesh    59.600000  1.227312e+11   0.393   \n",
            "88                            China    99.874382  6.668544e+12   0.831   \n",
            "136                           India    67.600000  1.763440e+12   0.504   \n",
            "182                         Myanmar    53.809826  5.231088e+10   0.194   \n",
            "196                        Pakistan    70.507156  1.820349e+11   0.073   \n",
            "62                       Bangladesh    62.847004  1.307350e+11   0.476   \n",
            "69                           Bhutan    91.500000  1.757119e+09   0.909   \n",
            "77                     Burkina Faso    15.438113  1.147468e+10   0.127   \n",
            "144                         Jamaica    93.100000  1.336679e+10   0.233   \n",
            "181                      Mozambique    21.400141  1.277291e+10   0.047   \n",
            "182                         Myanmar    54.993599  5.614666e+10   0.195   \n",
            "218                       Singapore   100.000000  2.663857e+11   0.402   \n",
            "69                           Bhutan    87.338844  1.794369e+09   0.155   \n",
            "144                         Jamaica    93.900000  1.343383e+10   0.251   \n",
            "172                      Mauritania    37.498772  6.380148e+09   0.300   \n",
            "181                      Mozambique    22.781946  1.366237e+10   0.045   \n",
            "218                       Singapore   100.000000  2.792715e+11   0.399   \n",
            "220                 Slovak Republic   100.000000  9.516007e+10   0.018   \n",
            "69                           Bhutan    91.350922  1.898021e+09   0.178   \n",
            "144                         Jamaica    93.300000  1.352673e+10   0.255   \n",
            "168                        Maldives   100.000000  3.316888e+09   1.424   \n",
            "69                           Bhutan    95.464729  2.024092e+09   0.190   \n",
            "137                       Indonesia    97.537367  9.881286e+11   0.000   \n",
            "144                         Jamaica    94.900000  1.365154e+10   0.307   \n",
            "196                        Pakistan    71.197411  2.156393e+11   0.087   \n",
            "69                           Bhutan    99.596329  2.188590e+09   0.069   \n",
            "128                          Guinea    33.500000  9.507604e+09   0.517   \n",
            "136                           India    89.671921  2.484425e+12   0.581   \n",
            "144                         Jamaica    96.997337  1.383933e+10   0.319   \n",
            "214                         Senegal    64.500000  2.146708e+10   0.000   \n",
            "218                       Singapore   100.000000  3.086402e+11   0.503   \n",
            "\n",
            "          Life  \n",
            "87   74.100000  \n",
            "57   78.078049  \n",
            "72   51.947000  \n",
            "121  57.045000  \n",
            "125  72.226000  \n",
            "196  62.303000  \n",
            "72   51.214000  \n",
            "121  56.972000  \n",
            "125  72.455000  \n",
            "196  62.564000  \n",
            "72   50.629000  \n",
            "88   71.397000  \n",
            "109  70.417073  \n",
            "121  57.002000  \n",
            "125  72.648000  \n",
            "196  62.820000  \n",
            "198  75.060000  \n",
            "231  70.809000  \n",
            "239  70.623000  \n",
            "57   79.634146  \n",
            "70   63.054000  \n",
            "72   50.281000  \n",
            "88   71.732000  \n",
            "121  57.158000  \n",
            "125  72.805000  \n",
            "196  63.066000  \n",
            "72   50.232000  \n",
            "121  57.425000  \n",
            "125  72.929000  \n",
            "72   50.518000  \n",
            "88   72.381000  \n",
            "111  54.211000  \n",
            "118  57.159000  \n",
            "121  57.785000  \n",
            "125  73.023000  \n",
            "136  63.699000  \n",
            "62   67.331000  \n",
            "69   64.483000  \n",
            "77   52.602000  \n",
            "78   52.547000  \n",
            "79   70.219000  \n",
            "80   62.186000  \n",
            "84   44.413000  \n",
            "85   48.270000  \n",
            "88   72.689000  \n",
            "110  42.731000  \n",
            "111  55.174000  \n",
            "136  64.095000  \n",
            "138  71.592000  \n",
            "146  72.427000  \n",
            "151  77.665854  \n",
            "168  73.034000  \n",
            "173  72.276748  \n",
            "182  61.294000  \n",
            "185  64.729000  \n",
            "209  53.595000  \n",
            "212  64.020000  \n",
            "217  43.467000  \n",
            "224  53.444000  \n",
            "232  60.092000  \n",
            "240  62.893000  \n",
            "261  62.931000  \n",
            "62   67.773000  \n",
            "72   52.130000  \n",
            "88   72.985000  \n",
            "136  64.500000  \n",
            "151  78.168293  \n",
            "182  61.607000  \n",
            "249  51.676000  \n",
            "262  48.496000  \n",
            "57   81.041463  \n",
            "72   53.435000  \n",
            "77   54.063000  \n",
            "88   73.271000  \n",
            "136  64.918000  \n",
            "151  78.668293  \n",
            "182  61.938000  \n",
            "69   66.709000  \n",
            "88   73.553000  \n",
            "111  58.467000  \n",
            "115  81.112195  \n",
            "118  58.671000  \n",
            "136  65.350000  \n",
            "151  79.119512  \n",
            "168  74.621000  \n",
            "182  62.294000  \n",
            "191  49.373000  \n",
            "256  68.672000  \n",
            "69   67.325000  \n",
            "72   56.679000  \n",
            "84   46.161000  \n",
            "88   73.835000  \n",
            "111  59.581000  \n",
            "118  59.012000  \n",
            "121  60.216000  \n",
            "136  65.794000  \n",
            "144  74.103000  \n",
            "151  79.517073  \n",
            "166  52.206000  \n",
            "175  66.099000  \n",
            "178  66.447000  \n",
            "182  62.678000  \n",
            "191  49.913000  \n",
            "196  64.685000  \n",
            "199  61.442000  \n",
            "217  47.508000  \n",
            "256  68.824000  \n",
            "262  52.606000  \n",
            "66   71.541000  \n",
            "72   58.447000  \n",
            "84   46.719000  \n",
            "88   74.119000  \n",
            "111  60.645000  \n",
            "130  67.792000  \n",
            "136  66.244000  \n",
            "151  79.968293  \n",
            "168  75.499000  \n",
            "169  54.756000  \n",
            "178  66.916000  \n",
            "182  63.089000  \n",
            "196  64.969000  \n",
            "77   57.096000  \n",
            "88   74.409000  \n",
            "130  68.059000  \n",
            "136  66.693000  \n",
            "159  59.600000  \n",
            "167  74.493000  \n",
            "168  75.905000  \n",
            "169  55.251000  \n",
            "178  67.380000  \n",
            "182  63.525000  \n",
            "196  65.264000  \n",
            "217  49.382000  \n",
            "261  65.549000  \n",
            "62   70.256000  \n",
            "88   74.708000  \n",
            "136  67.130000  \n",
            "182  63.983000  \n",
            "196  65.562000  \n",
            "62   70.606000  \n",
            "69   69.263000  \n",
            "77   58.374000  \n",
            "144  74.001000  \n",
            "181  53.931000  \n",
            "182  64.453000  \n",
            "218  81.995122  \n",
            "69   69.662000  \n",
            "144  74.010000  \n",
            "172  63.366000  \n",
            "181  54.949000  \n",
            "218  82.246341  \n",
            "220  76.412195  \n",
            "69   70.046000  \n",
            "144  74.042000  \n",
            "168  77.360000  \n",
            "69   70.419000  \n",
            "137  70.768000  \n",
            "144  74.098000  \n",
            "196  66.577000  \n",
            "69   70.781000  \n",
            "128  60.170000  \n",
            "136  68.897000  \n",
            "144  74.175000  \n",
            "214  67.078000  \n",
            "218  82.846341  \n"
          ],
          "name": "stdout"
        }
      ]
    },
    {
      "cell_type": "markdown",
      "metadata": {
        "id": "Fj4iTZzBX4pc"
      },
      "source": [
        "Next, we'll begin running correlation tests on the aggregated data to look for any form of pattern."
      ]
    },
    {
      "cell_type": "code",
      "metadata": {
        "id": "_mqv-8Ax3ne4"
      },
      "source": [
        "#we'll be making 3 dataframes total, all using the same method. The purpose here\n",
        "#is to isolate the variables that we want to use, so that we only have to eliminate\n",
        "#NaN values from relavent data, allowing us to keep as much information as possible.\n",
        "\n",
        "#First, we extract the columns that we want from the 'all_years_df' dataframe, and \n",
        "#then we drop all of the 'NaN' values so that we can run the stats.pearonr command.\n",
        "elec_life_overall_df = all_years_df.filter(['Country','Electricity','Life'])\n",
        "elec_life_overall_df = elec_life_overall_df.dropna(axis=0,how='any')\n",
        "\n",
        "gdp_life_overall_df = all_years_df.filter(['Country','GDP','Life'])\n",
        "gdp_life_overall_df = gdp_life_overall_df.dropna(axis=0,how='any')\n",
        "\n",
        "health_life_overall_df = all_years_df.filter(['Country','Health','Life'])\n",
        "health_life_overall_df = health_life_overall_df.dropna(axis=0,how='any')"
      ],
      "execution_count": null,
      "outputs": []
    },
    {
      "cell_type": "code",
      "metadata": {
        "id": "vKUQDuVSYRlf",
        "outputId": "00a3d830-a259-4baa-cc19-cb1ff0efe7b7",
        "colab": {
          "base_uri": "https://localhost:8080/",
          "height": 34
        }
      },
      "source": [
        "stats.pearsonr(elec_life_overall_df['Electricity'], elec_life_overall_df['Life'])"
      ],
      "execution_count": null,
      "outputs": [
        {
          "output_type": "execute_result",
          "data": {
            "text/plain": [
              "(0.8637829017517007, 0.0)"
            ]
          },
          "metadata": {
            "tags": []
          },
          "execution_count": 17
        }
      ]
    },
    {
      "cell_type": "code",
      "metadata": {
        "id": "kYCJ4ArXXptL",
        "outputId": "ff90eb34-bc39-446e-c09b-90a882256a08",
        "colab": {
          "base_uri": "https://localhost:8080/",
          "height": 34
        }
      },
      "source": [
        "stats.pearsonr(gdp_life_overall_df['GDP'], gdp_life_overall_df['Life'])"
      ],
      "execution_count": null,
      "outputs": [
        {
          "output_type": "execute_result",
          "data": {
            "text/plain": [
              "(0.17107886267814867, 1.3242036691805675e-41)"
            ]
          },
          "metadata": {
            "tags": []
          },
          "execution_count": 18
        }
      ]
    },
    {
      "cell_type": "code",
      "metadata": {
        "id": "FE4ogeflZIEV",
        "outputId": "79cfddb9-475b-4b94-f64e-1cfd37b87f63",
        "colab": {
          "base_uri": "https://localhost:8080/",
          "height": 34
        }
      },
      "source": [
        "stats.pearsonr(health_life_overall_df['Health'], health_life_overall_df['Life'])"
      ],
      "execution_count": null,
      "outputs": [
        {
          "output_type": "execute_result",
          "data": {
            "text/plain": [
              "(0.08379920081941179, 0.23810059379942503)"
            ]
          },
          "metadata": {
            "tags": []
          },
          "execution_count": 19
        }
      ]
    },
    {
      "cell_type": "markdown",
      "metadata": {
        "id": "Ha5Lxn9kZQNm"
      },
      "source": [
        "From these Pearson correlation tests, we can see that there is a strong chance that there is a positive correlation between both the \"Electricity\" and the \"GDP\" variables, with a country's life expectancy. This is to say that the higher each of those values are, the more likely it is that we will see an increased life expectancy.\n",
        "\n",
        "However, in contrast, we see little evidence of any correlation between the \"Health\" value with the life expectancy. This suggests that the number of health workers per capita is more or less irrelevant with regards to life expectancy. "
      ]
    },
    {
      "cell_type": "markdown",
      "metadata": {
        "id": "eR7wj3MSlq_E"
      },
      "source": [
        "Next, we'll begin breaking down the data by each year to examine yearly trends, as well as take a look at the data without repeat values for countries. The first question we need to answer, however, is \"which years do we want to use?\". We have usable data for 27 separate years, and examining each of them individually would be time-consuming, and unhelpful. Instead, we'll grab data for 4 separate years, starting with 1990 (the oldest year available), then skip ahead to 2000, and then 2010, ending with the year 2016 (the most recent year available). This should give us a good view of the overall data trends as time goes on."
      ]
    },
    {
      "cell_type": "code",
      "metadata": {
        "id": "ToA7IIxdZq4M",
        "outputId": "7b80f452-f226-46b7-de78-27ba6d6d8586",
        "colab": {
          "base_uri": "https://localhost:8080/",
          "height": 833
        }
      },
      "source": [
        "nineteen_ninety_df = yeardata('1990')\n",
        "nineteen_ninety_df.info()\n",
        "\n",
        "twothousand_df = yeardata('2000')\n",
        "twothousand_df.info()\n",
        "\n",
        "twothousand_ten_df = yeardata('2010')\n",
        "twothousand_ten_df.info()\n",
        "\n",
        "twothousand_sixteen_df = yeardata('2016')\n",
        "twothousand_sixteen_df.info()"
      ],
      "execution_count": null,
      "outputs": [
        {
          "output_type": "stream",
          "text": [
            "<class 'pandas.core.frame.DataFrame'>\n",
            "RangeIndex: 264 entries, 0 to 263\n",
            "Data columns (total 5 columns):\n",
            " #   Column       Non-Null Count  Dtype  \n",
            "---  ------       --------------  -----  \n",
            " 0   Country      264 non-null    object \n",
            " 1   Electricity  82 non-null     float64\n",
            " 2   GDP          215 non-null    float64\n",
            " 3   Health       6 non-null      float64\n",
            " 4   Life         243 non-null    float64\n",
            "dtypes: float64(4), object(1)\n",
            "memory usage: 10.4+ KB\n",
            "<class 'pandas.core.frame.DataFrame'>\n",
            "RangeIndex: 264 entries, 0 to 263\n",
            "Data columns (total 5 columns):\n",
            " #   Column       Non-Null Count  Dtype  \n",
            "---  ------       --------------  -----  \n",
            " 0   Country      264 non-null    object \n",
            " 1   Electricity  174 non-null    float64\n",
            " 2   GDP          239 non-null    float64\n",
            " 3   Health       11 non-null     float64\n",
            " 4   Life         247 non-null    float64\n",
            "dtypes: float64(4), object(1)\n",
            "memory usage: 10.4+ KB\n",
            "<class 'pandas.core.frame.DataFrame'>\n",
            "RangeIndex: 264 entries, 0 to 263\n",
            "Data columns (total 5 columns):\n",
            " #   Column       Non-Null Count  Dtype  \n",
            "---  ------       --------------  -----  \n",
            " 0   Country      264 non-null    object \n",
            " 1   Electricity  213 non-null    float64\n",
            " 2   GDP          252 non-null    float64\n",
            " 3   Health       13 non-null     float64\n",
            " 4   Life         246 non-null    float64\n",
            "dtypes: float64(4), object(1)\n",
            "memory usage: 10.4+ KB\n",
            "<class 'pandas.core.frame.DataFrame'>\n",
            "RangeIndex: 264 entries, 0 to 263\n",
            "Data columns (total 5 columns):\n",
            " #   Column       Non-Null Count  Dtype  \n",
            "---  ------       --------------  -----  \n",
            " 0   Country      264 non-null    object \n",
            " 1   Electricity  215 non-null    float64\n",
            " 2   GDP          244 non-null    float64\n",
            " 3   Health       6 non-null      float64\n",
            " 4   Life         247 non-null    float64\n",
            "dtypes: float64(4), object(1)\n",
            "memory usage: 10.4+ KB\n"
          ],
          "name": "stdout"
        }
      ]
    },
    {
      "cell_type": "markdown",
      "metadata": {
        "id": "mGQ7RjcwtLzF"
      },
      "source": [
        "From the summaries of the dataframes, the first thing that stands out is the apparent increase in reporting in certain areas as time moves forward. This likely has a lot to do with the rise of technology and the information era in those years. "
      ]
    },
    {
      "cell_type": "markdown",
      "metadata": {
        "id": "It-1QZw4tjSs"
      },
      "source": [
        "# 1990 Year Data"
      ]
    },
    {
      "cell_type": "code",
      "metadata": {
        "id": "oFA1B9tdZLni",
        "outputId": "5e310593-b367-4300-85ba-db221dd22d8c",
        "colab": {
          "base_uri": "https://localhost:8080/",
          "height": 297
        }
      },
      "source": [
        "nineteen_ninety_df.describe()"
      ],
      "execution_count": null,
      "outputs": [
        {
          "output_type": "execute_result",
          "data": {
            "text/html": [
              "<div>\n",
              "<style scoped>\n",
              "    .dataframe tbody tr th:only-of-type {\n",
              "        vertical-align: middle;\n",
              "    }\n",
              "\n",
              "    .dataframe tbody tr th {\n",
              "        vertical-align: top;\n",
              "    }\n",
              "\n",
              "    .dataframe thead th {\n",
              "        text-align: right;\n",
              "    }\n",
              "</style>\n",
              "<table border=\"1\" class=\"dataframe\">\n",
              "  <thead>\n",
              "    <tr style=\"text-align: right;\">\n",
              "      <th></th>\n",
              "      <th>Electricity</th>\n",
              "      <th>GDP</th>\n",
              "      <th>Health</th>\n",
              "      <th>Life</th>\n",
              "    </tr>\n",
              "  </thead>\n",
              "  <tbody>\n",
              "    <tr>\n",
              "      <th>count</th>\n",
              "      <td>82.000000</td>\n",
              "      <td>2.150000e+02</td>\n",
              "      <td>6.000000</td>\n",
              "      <td>243.000000</td>\n",
              "    </tr>\n",
              "    <tr>\n",
              "      <th>mean</th>\n",
              "      <td>94.949470</td>\n",
              "      <td>1.359874e+12</td>\n",
              "      <td>0.646807</td>\n",
              "      <td>64.719593</td>\n",
              "    </tr>\n",
              "    <tr>\n",
              "      <th>std</th>\n",
              "      <td>16.223528</td>\n",
              "      <td>4.675286e+12</td>\n",
              "      <td>0.464711</td>\n",
              "      <td>9.505259</td>\n",
              "    </tr>\n",
              "    <tr>\n",
              "      <th>min</th>\n",
              "      <td>13.900000</td>\n",
              "      <td>2.144197e+07</td>\n",
              "      <td>0.140921</td>\n",
              "      <td>33.413000</td>\n",
              "    </tr>\n",
              "    <tr>\n",
              "      <th>25%</th>\n",
              "      <td>100.000000</td>\n",
              "      <td>4.757358e+09</td>\n",
              "      <td>0.209691</td>\n",
              "      <td>58.122400</td>\n",
              "    </tr>\n",
              "    <tr>\n",
              "      <th>50%</th>\n",
              "      <td>100.000000</td>\n",
              "      <td>2.627304e+10</td>\n",
              "      <td>0.738500</td>\n",
              "      <td>67.860414</td>\n",
              "    </tr>\n",
              "    <tr>\n",
              "      <th>75%</th>\n",
              "      <td>100.000000</td>\n",
              "      <td>3.647493e+11</td>\n",
              "      <td>1.061000</td>\n",
              "      <td>71.557000</td>\n",
              "    </tr>\n",
              "    <tr>\n",
              "      <th>max</th>\n",
              "      <td>100.000000</td>\n",
              "      <td>3.790534e+13</td>\n",
              "      <td>1.061000</td>\n",
              "      <td>78.836829</td>\n",
              "    </tr>\n",
              "  </tbody>\n",
              "</table>\n",
              "</div>"
            ],
            "text/plain": [
              "       Electricity           GDP    Health        Life\n",
              "count    82.000000  2.150000e+02  6.000000  243.000000\n",
              "mean     94.949470  1.359874e+12  0.646807   64.719593\n",
              "std      16.223528  4.675286e+12  0.464711    9.505259\n",
              "min      13.900000  2.144197e+07  0.140921   33.413000\n",
              "25%     100.000000  4.757358e+09  0.209691   58.122400\n",
              "50%     100.000000  2.627304e+10  0.738500   67.860414\n",
              "75%     100.000000  3.647493e+11  1.061000   71.557000\n",
              "max     100.000000  3.790534e+13  1.061000   78.836829"
            ]
          },
          "metadata": {
            "tags": []
          },
          "execution_count": 97
        }
      ]
    },
    {
      "cell_type": "code",
      "metadata": {
        "id": "CbPQ4_UTtYq6",
        "outputId": "2d2440b9-4691-4d33-916b-3222c430cbf8",
        "colab": {
          "base_uri": "https://localhost:8080/",
          "height": 1000
        }
      },
      "source": [
        "sns.displot(data=nineteen_ninety_df['Electricity'])\n",
        "sns.displot(data=nineteen_ninety_df['GDP'])\n",
        "sns.displot(data=nineteen_ninety_df['Health'])\n",
        "sns.displot(data=nineteen_ninety_df['Life'])"
      ],
      "execution_count": null,
      "outputs": [
        {
          "output_type": "execute_result",
          "data": {
            "text/plain": [
              "<seaborn.axisgrid.FacetGrid at 0x7f2fa8e10278>"
            ]
          },
          "metadata": {
            "tags": []
          },
          "execution_count": 21
        },
        {
          "output_type": "display_data",
          "data": {
            "image/png": "[encoded data removed]",
            "text/plain": [
              "<Figure size 360x360 with 1 Axes>"
            ]
          },
          "metadata": {
            "tags": [],
            "needs_background": "light"
          }
        },
        {
          "output_type": "display_data",
          "data": {
            "image/png": "[encoded data removed]",
            "text/plain": [
              "<Figure size 360x360 with 1 Axes>"
            ]
          },
          "metadata": {
            "tags": [],
            "needs_background": "light"
          }
        },
        {
          "output_type": "display_data",
          "data": {
            "image/png": "[encoded data removed]",
            "text/plain": [
              "<Figure size 360x360 with 1 Axes>"
            ]
          },
          "metadata": {
            "tags": [],
            "needs_background": "light"
          }
        },
        {
          "output_type": "display_data",
          "data": {
            "image/png": "[encoded data removed]",
            "text/plain": [
              "<Figure size 360x360 with 1 Axes>"
            ]
          },
          "metadata": {
            "tags": [],
            "needs_background": "light"
          }
        }
      ]
    },
    {
      "cell_type": "markdown",
      "metadata": {
        "id": "JpSenqtpuRwI"
      },
      "source": [
        "The first things we see from the distrubution graphs in 1990:\n",
        "\n",
        "* Most countries had high levels of access to electricity for their population. \n",
        "* Most countries have lower GDPs compared to a few extremely wealthy outliers.\n",
        "* Health worker data is under-reported.\n",
        "* Life expectency has a large distrubution, but is mostly above 60 years. "
      ]
    },
    {
      "cell_type": "markdown",
      "metadata": {
        "id": "Hk0Kuy355Hvv"
      },
      "source": [
        "# 2000 Year Data"
      ]
    },
    {
      "cell_type": "code",
      "metadata": {
        "id": "pYNfgFueZH2N",
        "outputId": "c80e8fb4-28c2-40ec-b7b0-250ab8bd4ce5",
        "colab": {
          "base_uri": "https://localhost:8080/",
          "height": 297
        }
      },
      "source": [
        "twothousand_df.describe()"
      ],
      "execution_count": null,
      "outputs": [
        {
          "output_type": "execute_result",
          "data": {
            "text/html": [
              "<div>\n",
              "<style scoped>\n",
              "    .dataframe tbody tr th:only-of-type {\n",
              "        vertical-align: middle;\n",
              "    }\n",
              "\n",
              "    .dataframe tbody tr th {\n",
              "        vertical-align: top;\n",
              "    }\n",
              "\n",
              "    .dataframe thead th {\n",
              "        text-align: right;\n",
              "    }\n",
              "</style>\n",
              "<table border=\"1\" class=\"dataframe\">\n",
              "  <thead>\n",
              "    <tr style=\"text-align: right;\">\n",
              "      <th></th>\n",
              "      <th>Electricity</th>\n",
              "      <th>GDP</th>\n",
              "      <th>Health</th>\n",
              "      <th>Life</th>\n",
              "    </tr>\n",
              "  </thead>\n",
              "  <tbody>\n",
              "    <tr>\n",
              "      <th>count</th>\n",
              "      <td>174.000000</td>\n",
              "      <td>2.390000e+02</td>\n",
              "      <td>11.000000</td>\n",
              "      <td>247.000000</td>\n",
              "    </tr>\n",
              "    <tr>\n",
              "      <th>mean</th>\n",
              "      <td>76.203413</td>\n",
              "      <td>1.615008e+12</td>\n",
              "      <td>0.522044</td>\n",
              "      <td>66.761755</td>\n",
              "    </tr>\n",
              "    <tr>\n",
              "      <th>std</th>\n",
              "      <td>33.132662</td>\n",
              "      <td>5.816281e+12</td>\n",
              "      <td>0.380497</td>\n",
              "      <td>9.776774</td>\n",
              "    </tr>\n",
              "    <tr>\n",
              "      <th>min</th>\n",
              "      <td>2.704968</td>\n",
              "      <td>2.900917e+07</td>\n",
              "      <td>0.031000</td>\n",
              "      <td>39.441000</td>\n",
              "    </tr>\n",
              "    <tr>\n",
              "      <th>25%</th>\n",
              "      <td>57.080936</td>\n",
              "      <td>5.303881e+09</td>\n",
              "      <td>0.238000</td>\n",
              "      <td>60.154133</td>\n",
              "    </tr>\n",
              "    <tr>\n",
              "      <th>50%</th>\n",
              "      <td>97.800000</td>\n",
              "      <td>2.988343e+10</td>\n",
              "      <td>0.460000</td>\n",
              "      <td>69.667000</td>\n",
              "    </tr>\n",
              "    <tr>\n",
              "      <th>75%</th>\n",
              "      <td>100.000000</td>\n",
              "      <td>3.873691e+11</td>\n",
              "      <td>0.858872</td>\n",
              "      <td>73.863500</td>\n",
              "    </tr>\n",
              "    <tr>\n",
              "      <th>max</th>\n",
              "      <td>100.000000</td>\n",
              "      <td>4.994090e+13</td>\n",
              "      <td>1.033000</td>\n",
              "      <td>81.076098</td>\n",
              "    </tr>\n",
              "  </tbody>\n",
              "</table>\n",
              "</div>"
            ],
            "text/plain": [
              "       Electricity           GDP     Health        Life\n",
              "count   174.000000  2.390000e+02  11.000000  247.000000\n",
              "mean     76.203413  1.615008e+12   0.522044   66.761755\n",
              "std      33.132662  5.816281e+12   0.380497    9.776774\n",
              "min       2.704968  2.900917e+07   0.031000   39.441000\n",
              "25%      57.080936  5.303881e+09   0.238000   60.154133\n",
              "50%      97.800000  2.988343e+10   0.460000   69.667000\n",
              "75%     100.000000  3.873691e+11   0.858872   73.863500\n",
              "max     100.000000  4.994090e+13   1.033000   81.076098"
            ]
          },
          "metadata": {
            "tags": []
          },
          "execution_count": 96
        }
      ]
    },
    {
      "cell_type": "code",
      "metadata": {
        "id": "EDIRr0qu5G_G",
        "outputId": "03eeb143-f743-4db2-b1c9-68ae18a999f8",
        "colab": {
          "base_uri": "https://localhost:8080/",
          "height": 1000
        }
      },
      "source": [
        "sns.displot(data= twothousand_df['Electricity'])\n",
        "sns.displot(data= twothousand_df['GDP'], bins=100)\n",
        "sns.displot(data= twothousand_df['Health'])\n",
        "sns.displot(data= twothousand_df['Life'])"
      ],
      "execution_count": null,
      "outputs": [
        {
          "output_type": "execute_result",
          "data": {
            "text/plain": [
              "<seaborn.axisgrid.FacetGrid at 0x7f2fa88184e0>"
            ]
          },
          "metadata": {
            "tags": []
          },
          "execution_count": 22
        },
        {
          "output_type": "display_data",
          "data": {
            "image/png": "[encoded data removed]",
            "text/plain": [
              "<Figure size 360x360 with 1 Axes>"
            ]
          },
          "metadata": {
            "tags": [],
            "needs_background": "light"
          }
        },
        {
          "output_type": "display_data",
          "data": {
            "image/png": "[encoded data removed]",
            "text/plain": [
              "<Figure size 360x360 with 1 Axes>"
            ]
          },
          "metadata": {
            "tags": [],
            "needs_background": "light"
          }
        },
        {
          "output_type": "display_data",
          "data": {
            "image/png": "[encoded data removed]",
            "text/plain": [
              "<Figure size 360x360 with 1 Axes>"
            ]
          },
          "metadata": {
            "tags": [],
            "needs_background": "light"
          }
        },
        {
          "output_type": "display_data",
          "data": {
            "image/png": "[encoded data removed]",
            "text/plain": [
              "<Figure size 360x360 with 1 Axes>"
            ]
          },
          "metadata": {
            "tags": [],
            "needs_background": "light"
          }
        }
      ]
    },
    {
      "cell_type": "markdown",
      "metadata": {
        "id": "yzDTNE1M6Nm4"
      },
      "source": [
        "When looking at the data for the year 2000, we have a much more holistic look at what is going on with the data, because of more countries reporting their information. This begins to paint a clearer picture of some of our metrics. For example, we see that:\n",
        "* Fewer countries have widespread access to electricity than we thought.\n",
        "* The GDP graph is still unclear and will require some tweaking later on.\n",
        "* Health worker data appears to be underreported, and also has no visible trends."
      ]
    },
    {
      "cell_type": "markdown",
      "metadata": {
        "id": "Bckproq3ProV"
      },
      "source": [
        "# 2010 Year Data"
      ]
    },
    {
      "cell_type": "code",
      "metadata": {
        "id": "Q748_hehY_-S",
        "outputId": "dd2a6ef5-f436-4b6d-beae-0b9e285b3823",
        "colab": {
          "base_uri": "https://localhost:8080/",
          "height": 297
        }
      },
      "source": [
        "twothousand_ten_df.describe()"
      ],
      "execution_count": null,
      "outputs": [
        {
          "output_type": "execute_result",
          "data": {
            "text/html": [
              "<div>\n",
              "<style scoped>\n",
              "    .dataframe tbody tr th:only-of-type {\n",
              "        vertical-align: middle;\n",
              "    }\n",
              "\n",
              "    .dataframe tbody tr th {\n",
              "        vertical-align: top;\n",
              "    }\n",
              "\n",
              "    .dataframe thead th {\n",
              "        text-align: right;\n",
              "    }\n",
              "</style>\n",
              "<table border=\"1\" class=\"dataframe\">\n",
              "  <thead>\n",
              "    <tr style=\"text-align: right;\">\n",
              "      <th></th>\n",
              "      <th>Electricity</th>\n",
              "      <th>GDP</th>\n",
              "      <th>Health</th>\n",
              "      <th>Life</th>\n",
              "    </tr>\n",
              "  </thead>\n",
              "  <tbody>\n",
              "    <tr>\n",
              "      <th>count</th>\n",
              "      <td>213.000000</td>\n",
              "      <td>2.520000e+02</td>\n",
              "      <td>13.000000</td>\n",
              "      <td>246.000000</td>\n",
              "    </tr>\n",
              "    <tr>\n",
              "      <th>mean</th>\n",
              "      <td>79.774909</td>\n",
              "      <td>2.117374e+12</td>\n",
              "      <td>0.351154</td>\n",
              "      <td>70.179859</td>\n",
              "    </tr>\n",
              "    <tr>\n",
              "      <th>std</th>\n",
              "      <td>30.156718</td>\n",
              "      <td>7.297244e+12</td>\n",
              "      <td>0.493940</td>\n",
              "      <td>8.537251</td>\n",
              "    </tr>\n",
              "    <tr>\n",
              "      <th>min</th>\n",
              "      <td>1.500000</td>\n",
              "      <td>3.182352e+07</td>\n",
              "      <td>0.001000</td>\n",
              "      <td>45.100000</td>\n",
              "    </tr>\n",
              "    <tr>\n",
              "      <th>25%</th>\n",
              "      <td>64.350000</td>\n",
              "      <td>6.933109e+09</td>\n",
              "      <td>0.061000</td>\n",
              "      <td>64.547637</td>\n",
              "    </tr>\n",
              "    <tr>\n",
              "      <th>50%</th>\n",
              "      <td>98.864006</td>\n",
              "      <td>4.081125e+10</td>\n",
              "      <td>0.161000</td>\n",
              "      <td>72.051500</td>\n",
              "    </tr>\n",
              "    <tr>\n",
              "      <th>75%</th>\n",
              "      <td>100.000000</td>\n",
              "      <td>4.823030e+11</td>\n",
              "      <td>0.435000</td>\n",
              "      <td>76.008421</td>\n",
              "    </tr>\n",
              "    <tr>\n",
              "      <th>max</th>\n",
              "      <td>100.000000</td>\n",
              "      <td>6.611312e+13</td>\n",
              "      <td>1.777000</td>\n",
              "      <td>82.978049</td>\n",
              "    </tr>\n",
              "  </tbody>\n",
              "</table>\n",
              "</div>"
            ],
            "text/plain": [
              "       Electricity           GDP     Health        Life\n",
              "count   213.000000  2.520000e+02  13.000000  246.000000\n",
              "mean     79.774909  2.117374e+12   0.351154   70.179859\n",
              "std      30.156718  7.297244e+12   0.493940    8.537251\n",
              "min       1.500000  3.182352e+07   0.001000   45.100000\n",
              "25%      64.350000  6.933109e+09   0.061000   64.547637\n",
              "50%      98.864006  4.081125e+10   0.161000   72.051500\n",
              "75%     100.000000  4.823030e+11   0.435000   76.008421\n",
              "max     100.000000  6.611312e+13   1.777000   82.978049"
            ]
          },
          "metadata": {
            "tags": []
          },
          "execution_count": 95
        }
      ]
    },
    {
      "cell_type": "code",
      "metadata": {
        "id": "trDs7mj1SheJ",
        "outputId": "f2395e4a-9bc7-4713-fc5d-a3594b445111",
        "colab": {
          "base_uri": "https://localhost:8080/",
          "height": 1000
        }
      },
      "source": [
        "sns.displot(data= twothousand_ten_df['Electricity'])\n",
        "sns.displot(data= twothousand_ten_df['GDP'])\n",
        "sns.displot(data= twothousand_ten_df['Health'])\n",
        "sns.displot(data= twothousand_ten_df['Life'])"
      ],
      "execution_count": null,
      "outputs": [
        {
          "output_type": "execute_result",
          "data": {
            "text/plain": [
              "<seaborn.axisgrid.FacetGrid at 0x7f2faa3fbd68>"
            ]
          },
          "metadata": {
            "tags": []
          },
          "execution_count": 23
        },
        {
          "output_type": "display_data",
          "data": {
            "image/png": "[encoded data removed]",
            "text/plain": [
              "<Figure size 360x360 with 1 Axes>"
            ]
          },
          "metadata": {
            "tags": [],
            "needs_background": "light"
          }
        },
        {
          "output_type": "display_data",
          "data": {
            "image/png": "[encoded data removed]",
            "text/plain": [
              "<Figure size 360x360 with 1 Axes>"
            ]
          },
          "metadata": {
            "tags": [],
            "needs_background": "light"
          }
        },
        {
          "output_type": "display_data",
          "data": {
            "image/png": "[encoded data removed]",
            "text/plain": [
              "<Figure size 360x360 with 1 Axes>"
            ]
          },
          "metadata": {
            "tags": [],
            "needs_background": "light"
          }
        },
        {
          "output_type": "display_data",
          "data": {
            "image/png": "[encoded data removed]",
            "text/plain": [
              "<Figure size 360x360 with 1 Axes>"
            ]
          },
          "metadata": {
            "tags": [],
            "needs_background": "light"
          }
        }
      ]
    },
    {
      "cell_type": "markdown",
      "metadata": {
        "id": "1iUcl6sYQASb"
      },
      "source": [
        "Here, we see the data following the expected trend for electricity and life expectancy, a slow overall increase. As we covered earlier, there is likely a strong correlation between access to electricity and life expectancy."
      ]
    },
    {
      "cell_type": "markdown",
      "metadata": {
        "id": "ux45h8yTQeUG"
      },
      "source": [
        "# 2016 Year Data"
      ]
    },
    {
      "cell_type": "code",
      "metadata": {
        "id": "bR5aUzxSY9lh",
        "outputId": "f2b47433-34a8-42a2-b644-ed8bebdc63b0",
        "colab": {
          "base_uri": "https://localhost:8080/",
          "height": 297
        }
      },
      "source": [
        "twothousand_sixteen_df.describe()"
      ],
      "execution_count": null,
      "outputs": [
        {
          "output_type": "execute_result",
          "data": {
            "text/html": [
              "<div>\n",
              "<style scoped>\n",
              "    .dataframe tbody tr th:only-of-type {\n",
              "        vertical-align: middle;\n",
              "    }\n",
              "\n",
              "    .dataframe tbody tr th {\n",
              "        vertical-align: top;\n",
              "    }\n",
              "\n",
              "    .dataframe thead th {\n",
              "        text-align: right;\n",
              "    }\n",
              "</style>\n",
              "<table border=\"1\" class=\"dataframe\">\n",
              "  <thead>\n",
              "    <tr style=\"text-align: right;\">\n",
              "      <th></th>\n",
              "      <th>Electricity</th>\n",
              "      <th>GDP</th>\n",
              "      <th>Health</th>\n",
              "      <th>Life</th>\n",
              "    </tr>\n",
              "  </thead>\n",
              "  <tbody>\n",
              "    <tr>\n",
              "      <th>count</th>\n",
              "      <td>215.000000</td>\n",
              "      <td>2.440000e+02</td>\n",
              "      <td>6.000000</td>\n",
              "      <td>247.000000</td>\n",
              "    </tr>\n",
              "    <tr>\n",
              "      <th>mean</th>\n",
              "      <td>84.812926</td>\n",
              "      <td>2.625478e+12</td>\n",
              "      <td>0.331500</td>\n",
              "      <td>72.094990</td>\n",
              "    </tr>\n",
              "    <tr>\n",
              "      <th>std</th>\n",
              "      <td>25.475218</td>\n",
              "      <td>8.681360e+12</td>\n",
              "      <td>0.246993</td>\n",
              "      <td>7.497675</td>\n",
              "    </tr>\n",
              "    <tr>\n",
              "      <th>min</th>\n",
              "      <td>9.637500</td>\n",
              "      <td>3.921611e+07</td>\n",
              "      <td>0.000000</td>\n",
              "      <td>51.593000</td>\n",
              "    </tr>\n",
              "    <tr>\n",
              "      <th>25%</th>\n",
              "      <td>76.760311</td>\n",
              "      <td>1.094002e+10</td>\n",
              "      <td>0.131500</td>\n",
              "      <td>67.323000</td>\n",
              "    </tr>\n",
              "    <tr>\n",
              "      <th>50%</th>\n",
              "      <td>99.921829</td>\n",
              "      <td>5.229079e+10</td>\n",
              "      <td>0.411000</td>\n",
              "      <td>73.395956</td>\n",
              "    </tr>\n",
              "    <tr>\n",
              "      <th>75%</th>\n",
              "      <td>100.000000</td>\n",
              "      <td>5.912976e+11</td>\n",
              "      <td>0.513500</td>\n",
              "      <td>77.484000</td>\n",
              "    </tr>\n",
              "    <tr>\n",
              "      <th>max</th>\n",
              "      <td>100.000000</td>\n",
              "      <td>7.790414e+13</td>\n",
              "      <td>0.581000</td>\n",
              "      <td>84.226829</td>\n",
              "    </tr>\n",
              "  </tbody>\n",
              "</table>\n",
              "</div>"
            ],
            "text/plain": [
              "       Electricity           GDP    Health        Life\n",
              "count   215.000000  2.440000e+02  6.000000  247.000000\n",
              "mean     84.812926  2.625478e+12  0.331500   72.094990\n",
              "std      25.475218  8.681360e+12  0.246993    7.497675\n",
              "min       9.637500  3.921611e+07  0.000000   51.593000\n",
              "25%      76.760311  1.094002e+10  0.131500   67.323000\n",
              "50%      99.921829  5.229079e+10  0.411000   73.395956\n",
              "75%     100.000000  5.912976e+11  0.513500   77.484000\n",
              "max     100.000000  7.790414e+13  0.581000   84.226829"
            ]
          },
          "metadata": {
            "tags": []
          },
          "execution_count": 94
        }
      ]
    },
    {
      "cell_type": "code",
      "metadata": {
        "id": "0VXHBkPgQhC5",
        "outputId": "674336d7-75f9-42e8-b347-e668e3451e92",
        "colab": {
          "base_uri": "https://localhost:8080/",
          "height": 1000
        }
      },
      "source": [
        "sns.displot(data= twothousand_sixteen_df['Electricity'])\n",
        "sns.displot(data= twothousand_sixteen_df['GDP'])\n",
        "sns.displot(data= twothousand_sixteen_df['Health'])\n",
        "sns.displot(data= twothousand_sixteen_df['Life'])"
      ],
      "execution_count": null,
      "outputs": [
        {
          "output_type": "execute_result",
          "data": {
            "text/plain": [
              "<seaborn.axisgrid.FacetGrid at 0x7f2f9ee48da0>"
            ]
          },
          "metadata": {
            "tags": []
          },
          "execution_count": 93
        },
        {
          "output_type": "display_data",
          "data": {
            "image/png": "[encoded data removed]",
            "text/plain": [
              "<Figure size 360x360 with 1 Axes>"
            ]
          },
          "metadata": {
            "tags": [],
            "needs_background": "light"
          }
        },
        {
          "output_type": "display_data",
          "data": {
            "image/png": "[encoded data removed]",
            "text/plain": [
              "<Figure size 360x360 with 1 Axes>"
            ]
          },
          "metadata": {
            "tags": [],
            "needs_background": "light"
          }
        },
        {
          "output_type": "display_data",
          "data": {
            "image/png": "[encoded data removed]",
            "text/plain": [
              "<Figure size 360x360 with 1 Axes>"
            ]
          },
          "metadata": {
            "tags": [],
            "needs_background": "light"
          }
        },
        {
          "output_type": "display_data",
          "data": {
            "image/png": "[encoded data removed]",
            "text/plain": [
              "<Figure size 360x360 with 1 Axes>"
            ]
          },
          "metadata": {
            "tags": [],
            "needs_background": "light"
          }
        }
      ]
    },
    {
      "cell_type": "markdown",
      "metadata": {
        "id": "6YM6quT6Q2sO"
      },
      "source": [
        "Once again, moving into the most recent year of our data, we see the expected increase in life expectancy and access to electricity. "
      ]
    },
    {
      "cell_type": "markdown",
      "metadata": {
        "id": "pCOcLD3OROiF"
      },
      "source": [
        "# Relationship Between Electricity and Life Expectancy"
      ]
    },
    {
      "cell_type": "code",
      "metadata": {
        "id": "4ZWMzK5gRUnw",
        "outputId": "a52155c0-b438-4b4b-f1c5-952ff4e1fb10",
        "colab": {
          "base_uri": "https://localhost:8080/",
          "height": 302
        }
      },
      "source": [
        "sns.scatterplot(x='Life', y='Electricity', data= nineteen_ninety_df)\n",
        "plt.ylim(0, 103)\n",
        "plt.xlim(0, 100)"
      ],
      "execution_count": null,
      "outputs": [
        {
          "output_type": "execute_result",
          "data": {
            "text/plain": [
              "(0.0, 100.0)"
            ]
          },
          "metadata": {
            "tags": []
          },
          "execution_count": 45
        },
        {
          "output_type": "display_data",
          "data": {
            "image/png": "[encoded data removed]",
            "text/plain": [
              "<Figure size 432x288 with 1 Axes>"
            ]
          },
          "metadata": {
            "tags": [],
            "needs_background": "light"
          }
        }
      ]
    },
    {
      "cell_type": "code",
      "metadata": {
        "id": "u9XzRpdhRqYF",
        "outputId": "3487e1e0-1606-4933-b0ad-94a0682157fd",
        "colab": {
          "base_uri": "https://localhost:8080/",
          "height": 302
        }
      },
      "source": [
        "sns.scatterplot(x='Life', y='Electricity', data= twothousand_df)\n",
        "plt.ylim(0, 103)\n",
        "plt.xlim(0, 100)"
      ],
      "execution_count": null,
      "outputs": [
        {
          "output_type": "execute_result",
          "data": {
            "text/plain": [
              "(0.0, 100.0)"
            ]
          },
          "metadata": {
            "tags": []
          },
          "execution_count": 46
        },
        {
          "output_type": "display_data",
          "data": {
            "image/png": "[encoded data removed]",
            "text/plain": [
              "<Figure size 432x288 with 1 Axes>"
            ]
          },
          "metadata": {
            "tags": [],
            "needs_background": "light"
          }
        }
      ]
    },
    {
      "cell_type": "code",
      "metadata": {
        "id": "DUaVvQxcRwKb",
        "outputId": "7ef39f96-c34f-462f-ff26-caf6639d97e3",
        "colab": {
          "base_uri": "https://localhost:8080/",
          "height": 302
        }
      },
      "source": [
        "sns.scatterplot(x='Life', y='Electricity', data= twothousand_ten_df)\n",
        "plt.ylim(0, 103)\n",
        "plt.xlim(0, 100)"
      ],
      "execution_count": null,
      "outputs": [
        {
          "output_type": "execute_result",
          "data": {
            "text/plain": [
              "(0.0, 100.0)"
            ]
          },
          "metadata": {
            "tags": []
          },
          "execution_count": 48
        },
        {
          "output_type": "display_data",
          "data": {
            "image/png": "[encoded data removed]",
            "text/plain": [
              "<Figure size 432x288 with 1 Axes>"
            ]
          },
          "metadata": {
            "tags": [],
            "needs_background": "light"
          }
        }
      ]
    },
    {
      "cell_type": "code",
      "metadata": {
        "id": "tNN9YKh9RyYH",
        "outputId": "a7e08236-9c7c-4cef-d408-373f019e262a",
        "colab": {
          "base_uri": "https://localhost:8080/",
          "height": 302
        }
      },
      "source": [
        "sns.scatterplot(x='Life', y='Electricity', data= twothousand_sixteen_df)\n",
        "plt.ylim(0, 103)\n",
        "plt.xlim(0, 100)"
      ],
      "execution_count": null,
      "outputs": [
        {
          "output_type": "execute_result",
          "data": {
            "text/plain": [
              "(0.0, 100.0)"
            ]
          },
          "metadata": {
            "tags": []
          },
          "execution_count": 49
        },
        {
          "output_type": "display_data",
          "data": {
            "image/png": "[encoded data removed]",
            "text/plain": [
              "<Figure size 432x288 with 1 Axes>"
            ]
          },
          "metadata": {
            "tags": [],
            "needs_background": "light"
          }
        }
      ]
    },
    {
      "cell_type": "markdown",
      "metadata": {
        "id": "IlQgx-wTUd58"
      },
      "source": [
        "# Relationship Between GDP and Life Expectancy"
      ]
    },
    {
      "cell_type": "markdown",
      "metadata": {
        "id": "Xmu3q-GJVTIe"
      },
      "source": [
        "In this section, there will be graphs of the overall GDP and life expectancy correlation, followed by graphs of the same data, but zoomed in on the lower data points to get a clearer look at trends"
      ]
    },
    {
      "cell_type": "markdown",
      "metadata": {
        "id": "h5y6cU_KW1P8"
      },
      "source": [
        "Data for 1990"
      ]
    },
    {
      "cell_type": "code",
      "metadata": {
        "id": "rAAZMML4Wpa_",
        "outputId": "b8e524d7-7e0c-469a-939d-5da2a51d49c2",
        "colab": {
          "base_uri": "https://localhost:8080/",
          "height": 313
        }
      },
      "source": [
        "sns.scatterplot(x='Life', y='GDP', data= nineteen_ninety_df)"
      ],
      "execution_count": null,
      "outputs": [
        {
          "output_type": "execute_result",
          "data": {
            "text/plain": [
              "<matplotlib.axes._subplots.AxesSubplot at 0x7f2fa8a43a20>"
            ]
          },
          "metadata": {
            "tags": []
          },
          "execution_count": 85
        },
        {
          "output_type": "display_data",
          "data": {
            "image/png": "[encoded data removed]",
            "text/plain": [
              "<Figure size 432x288 with 1 Axes>"
            ]
          },
          "metadata": {
            "tags": [],
            "needs_background": "light"
          }
        }
      ]
    },
    {
      "cell_type": "code",
      "metadata": {
        "id": "vobjBTKBSiNb",
        "outputId": "5d880ce1-4bbc-45f3-8c2e-8caa2f197bb6",
        "colab": {
          "base_uri": "https://localhost:8080/",
          "height": 313
        }
      },
      "source": [
        "sns.scatterplot(x='Life', y='GDP', data= nineteen_ninety_df)\n",
        "plt.ylim(0, 200000000000)\n",
        "plt.xlim(0, 100)"
      ],
      "execution_count": null,
      "outputs": [
        {
          "output_type": "execute_result",
          "data": {
            "text/plain": [
              "(0.0, 100.0)"
            ]
          },
          "metadata": {
            "tags": []
          },
          "execution_count": 81
        },
        {
          "output_type": "display_data",
          "data": {
            "image/png": "[encoded data removed]",
            "text/plain": [
              "<Figure size 432x288 with 1 Axes>"
            ]
          },
          "metadata": {
            "tags": [],
            "needs_background": "light"
          }
        }
      ]
    },
    {
      "cell_type": "markdown",
      "metadata": {
        "id": "A13mzzH3W39M"
      },
      "source": [
        "Data for 2000"
      ]
    },
    {
      "cell_type": "code",
      "metadata": {
        "id": "FxIZVLq7WsFL",
        "outputId": "5cbf6ab1-8cae-4615-886a-6d12763416dc",
        "colab": {
          "base_uri": "https://localhost:8080/",
          "height": 313
        }
      },
      "source": [
        "sns.scatterplot(x='Life', y='GDP', data= twothousand_df)"
      ],
      "execution_count": null,
      "outputs": [
        {
          "output_type": "execute_result",
          "data": {
            "text/plain": [
              "<matplotlib.axes._subplots.AxesSubplot at 0x7f2faa645d68>"
            ]
          },
          "metadata": {
            "tags": []
          },
          "execution_count": 86
        },
        {
          "output_type": "display_data",
          "data": {
            "image/png": "[encoded data removed]",
            "text/plain": [
              "<Figure size 432x288 with 1 Axes>"
            ]
          },
          "metadata": {
            "tags": [],
            "needs_background": "light"
          }
        }
      ]
    },
    {
      "cell_type": "code",
      "metadata": {
        "id": "8BlWdiNwUM4j",
        "outputId": "722e3c65-510f-48da-df85-d9752f73eb73",
        "colab": {
          "base_uri": "https://localhost:8080/",
          "height": 313
        }
      },
      "source": [
        "sns.scatterplot(x='Life', y='GDP', data= twothousand_df)\n",
        "plt.ylim(0, 200000000000)\n",
        "plt.xlim(0, 100)"
      ],
      "execution_count": null,
      "outputs": [
        {
          "output_type": "execute_result",
          "data": {
            "text/plain": [
              "(0.0, 100.0)"
            ]
          },
          "metadata": {
            "tags": []
          },
          "execution_count": 82
        },
        {
          "output_type": "display_data",
          "data": {
            "image/png": "[encoded data removed]",
            "text/plain": [
              "<Figure size 432x288 with 1 Axes>"
            ]
          },
          "metadata": {
            "tags": [],
            "needs_background": "light"
          }
        }
      ]
    },
    {
      "cell_type": "markdown",
      "metadata": {
        "id": "_funw8PfW6HS"
      },
      "source": [
        "Data for 2010"
      ]
    },
    {
      "cell_type": "code",
      "metadata": {
        "id": "20lPTDg4WvV6",
        "outputId": "45d4d0c8-5851-4511-a59f-83e502e9644c",
        "colab": {
          "base_uri": "https://localhost:8080/",
          "height": 313
        }
      },
      "source": [
        "sns.scatterplot(x='Life', y='GDP', data= twothousand_ten_df)"
      ],
      "execution_count": null,
      "outputs": [
        {
          "output_type": "execute_result",
          "data": {
            "text/plain": [
              "<matplotlib.axes._subplots.AxesSubplot at 0x7f2fa9f4d2e8>"
            ]
          },
          "metadata": {
            "tags": []
          },
          "execution_count": 87
        },
        {
          "output_type": "display_data",
          "data": {
            "image/png": "[encoded data removed]",
            "text/plain": [
              "<Figure size 432x288 with 1 Axes>"
            ]
          },
          "metadata": {
            "tags": [],
            "needs_background": "light"
          }
        }
      ]
    },
    {
      "cell_type": "code",
      "metadata": {
        "id": "viN3hQKZUTCh",
        "outputId": "fb3bd040-af67-41a5-defe-8aeb6061dcbe",
        "colab": {
          "base_uri": "https://localhost:8080/",
          "height": 313
        }
      },
      "source": [
        "sns.scatterplot(x='Life', y='GDP', data= twothousand_ten_df)\n",
        "plt.ylim(0, 200000000000)\n",
        "plt.xlim(0, 100)"
      ],
      "execution_count": null,
      "outputs": [
        {
          "output_type": "execute_result",
          "data": {
            "text/plain": [
              "(0.0, 100.0)"
            ]
          },
          "metadata": {
            "tags": []
          },
          "execution_count": 83
        },
        {
          "output_type": "display_data",
          "data": {
            "image/png": "[encoded data removed]",
            "text/plain": [
              "<Figure size 432x288 with 1 Axes>"
            ]
          },
          "metadata": {
            "tags": [],
            "needs_background": "light"
          }
        }
      ]
    },
    {
      "cell_type": "markdown",
      "metadata": {
        "id": "n_4mJahNW8DH"
      },
      "source": [
        "Data for 2016"
      ]
    },
    {
      "cell_type": "code",
      "metadata": {
        "id": "oHz3fuAXWxwZ",
        "outputId": "579c2bf8-eae9-45fb-954c-3df4c1172440",
        "colab": {
          "base_uri": "https://localhost:8080/",
          "height": 313
        }
      },
      "source": [
        "sns.scatterplot(x='Life', y='GDP', data= twothousand_sixteen_df)"
      ],
      "execution_count": null,
      "outputs": [
        {
          "output_type": "execute_result",
          "data": {
            "text/plain": [
              "<matplotlib.axes._subplots.AxesSubplot at 0x7f2fa96cc278>"
            ]
          },
          "metadata": {
            "tags": []
          },
          "execution_count": 88
        },
        {
          "output_type": "display_data",
          "data": {
            "image/png": "[encoded data removed]",
            "text/plain": [
              "<Figure size 432x288 with 1 Axes>"
            ]
          },
          "metadata": {
            "tags": [],
            "needs_background": "light"
          }
        }
      ]
    },
    {
      "cell_type": "code",
      "metadata": {
        "id": "eRmQs0foUqdf",
        "outputId": "31706502-7b53-46e2-be61-9bd511a39038",
        "colab": {
          "base_uri": "https://localhost:8080/",
          "height": 313
        }
      },
      "source": [
        "sns.scatterplot(x='Life', y='GDP', data= twothousand_sixteen_df)\n",
        "plt.ylim(0, 200000000000)\n",
        "plt.xlim(0, 100)"
      ],
      "execution_count": null,
      "outputs": [
        {
          "output_type": "execute_result",
          "data": {
            "text/plain": [
              "(0.0, 100.0)"
            ]
          },
          "metadata": {
            "tags": []
          },
          "execution_count": 84
        },
        {
          "output_type": "display_data",
          "data": {
            "image/png": "[encoded data removed]",
            "text/plain": [
              "<Figure size 432x288 with 1 Axes>"
            ]
          },
          "metadata": {
            "tags": [],
            "needs_background": "light"
          }
        }
      ]
    },
    {
      "cell_type": "markdown",
      "metadata": {
        "id": "771OFNXnUukP"
      },
      "source": [
        "Here, we see an increase in life expectancy over the years, but we also see a massive increase in the higher-ups in the GDP scale, with the highest going from about 3.5 in 1990, all the way up to the highest being about 8 in 2016. As our math earlier suggests, there is likely a strong positive correlation between GDP and life expectancy."
      ]
    },
    {
      "cell_type": "markdown",
      "metadata": {
        "id": "dcwTuxysVYXN"
      },
      "source": [
        "# Takeaways"
      ]
    },
    {
      "cell_type": "markdown",
      "metadata": {
        "id": "JOiGWmLRVaSn"
      },
      "source": [
        "The two biggest takeaways from this analysis are that there is strong evidence to support the claim that there is a positive correlation between the access to electricity and the GDP of a country, with the life expectancy of a country. This being said, there is little evidence to support the claim that the number of health workers per capita has an impact on life expectancy. Given this information, it would be a safe inference to say that the top priority concerning increasing life expectancy for a country should be developing industry and infrastructure, as these have both been shown to correlate to life expectancy."
      ]
    }
  ]
}